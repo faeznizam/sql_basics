{
 "cells": [
  {
   "cell_type": "markdown",
   "metadata": {},
   "source": [
    "# SQL Essentials"
   ]
  },
  {
   "cell_type": "markdown",
   "metadata": {},
   "source": [
    "In this course, we will work with the well-known 'Northwind' database through SQLite. The norhwind database has 12 different tables we can query and is a good database for us to practice our SQL skills. The following diagram shows us how these tables are related to one another in our database.\n",
    "\n",
    "<img src ='Northwind_ERD.png'>"
   ]
  },
  {
   "cell_type": "markdown",
   "metadata": {},
   "source": [
    "\n",
    "### SQL General Data Types\n",
    "\n",
    "|Data Type | Description |\n",
    "|:- | :-: | \n",
    "| CHAR(*n*)  | \tCharacter string. Fixed-length *n*.|\n",
    "| VARCHAR(*n*) | Character string. Variable length. Maximum length *n*. |\n",
    "| INT  | Integer numerical (no decimal). Precision 10.|\n",
    "| SMALLINT  | Integer numerical (no decimal). Precision 5. |\n",
    "| BIGINT   |  Integer numerical (no decimal). Precision 19. |\n",
    "| DECIMAL(*p,s*)* | Exact numerical, precision *p*, scale *s*. |\n",
    "| FLOAT | Approximate numerical. Precision 16.|\n",
    "|REAL |\tApproximate numerical. Precision 7.|\n",
    "|TEXT\t| Holds a string with a maximum length of 65,535 characters.|\n",
    "| DATETIME\t| A date and time combination. Format: YYYY-MM-DD HH:MI:SS|\n",
    "| IMAGE\t| Variable width binary string that holds 2GB data.|\n",
    "| BIT\t| Integer that can be 0, 1, or NULL.|\n",
    "| MONEY**\t| Monetary data from -922,337,203,685,477.5808 to 922,337,203,685,477.5807.|\t\n",
    " \n",
    "*Example: decimal(5,2) is a number that has 3 digits before the decimal and 2 digits after the decimal.\n",
    "\n",
    "** NOT supported in some of sql databases such as Oracle, MySQL."
   ]
  },
  {
   "cell_type": "markdown",
   "metadata": {},
   "source": [
    "#### Run the three following cells to get started working with SQLite on Jupyter. Remember that you need to use the magic functions (%sql or %%sql) when trying to run SQL commands; the former is used for single line commands whilst the latter is for multiple lines."
   ]
  },
  {
   "cell_type": "code",
   "execution_count": 1,
   "metadata": {},
   "outputs": [
    {
     "name": "stdout",
     "output_type": "stream",
     "text": [
      "Requirement already satisfied: ipython-sql in /home/faeznizam/Documents/anaconda3/lib/python3.8/site-packages (0.4.0)\n",
      "Requirement already satisfied: prettytable<1 in /home/faeznizam/Documents/anaconda3/lib/python3.8/site-packages (from ipython-sql) (0.7.2)\n",
      "Requirement already satisfied: sqlalchemy>=0.6.7 in /home/faeznizam/Documents/anaconda3/lib/python3.8/site-packages (from ipython-sql) (1.3.18)\n",
      "Requirement already satisfied: ipython>=1.0 in /home/faeznizam/Documents/anaconda3/lib/python3.8/site-packages (from ipython-sql) (7.16.1)\n",
      "Requirement already satisfied: ipython-genutils>=0.1.0 in /home/faeznizam/Documents/anaconda3/lib/python3.8/site-packages (from ipython-sql) (0.2.0)\n",
      "Requirement already satisfied: six in /home/faeznizam/Documents/anaconda3/lib/python3.8/site-packages (from ipython-sql) (1.15.0)\n",
      "Requirement already satisfied: sqlparse in /home/faeznizam/Documents/anaconda3/lib/python3.8/site-packages (from ipython-sql) (0.4.1)\n",
      "Requirement already satisfied: setuptools>=18.5 in /home/faeznizam/Documents/anaconda3/lib/python3.8/site-packages (from ipython>=1.0->ipython-sql) (49.2.0.post20200714)\n",
      "Requirement already satisfied: prompt-toolkit!=3.0.0,!=3.0.1,<3.1.0,>=2.0.0 in /home/faeznizam/Documents/anaconda3/lib/python3.8/site-packages (from ipython>=1.0->ipython-sql) (3.0.5)\n",
      "Requirement already satisfied: decorator in /home/faeznizam/Documents/anaconda3/lib/python3.8/site-packages (from ipython>=1.0->ipython-sql) (4.4.2)\n",
      "Requirement already satisfied: traitlets>=4.2 in /home/faeznizam/Documents/anaconda3/lib/python3.8/site-packages (from ipython>=1.0->ipython-sql) (4.3.3)\n",
      "Requirement already satisfied: jedi>=0.10 in /home/faeznizam/Documents/anaconda3/lib/python3.8/site-packages (from ipython>=1.0->ipython-sql) (0.17.1)\n",
      "Requirement already satisfied: backcall in /home/faeznizam/Documents/anaconda3/lib/python3.8/site-packages (from ipython>=1.0->ipython-sql) (0.2.0)\n",
      "Requirement already satisfied: pygments in /home/faeznizam/Documents/anaconda3/lib/python3.8/site-packages (from ipython>=1.0->ipython-sql) (2.6.1)\n",
      "Requirement already satisfied: pickleshare in /home/faeznizam/Documents/anaconda3/lib/python3.8/site-packages (from ipython>=1.0->ipython-sql) (0.7.5)\n",
      "Requirement already satisfied: pexpect; sys_platform != \"win32\" in /home/faeznizam/Documents/anaconda3/lib/python3.8/site-packages (from ipython>=1.0->ipython-sql) (4.8.0)\n",
      "Requirement already satisfied: wcwidth in /home/faeznizam/Documents/anaconda3/lib/python3.8/site-packages (from prompt-toolkit!=3.0.0,!=3.0.1,<3.1.0,>=2.0.0->ipython>=1.0->ipython-sql) (0.2.5)\n",
      "Requirement already satisfied: parso<0.8.0,>=0.7.0 in /home/faeznizam/Documents/anaconda3/lib/python3.8/site-packages (from jedi>=0.10->ipython>=1.0->ipython-sql) (0.7.0)\n",
      "Requirement already satisfied: ptyprocess>=0.5 in /home/faeznizam/Documents/anaconda3/lib/python3.8/site-packages (from pexpect; sys_platform != \"win32\"->ipython>=1.0->ipython-sql) (0.6.0)\n"
     ]
    }
   ],
   "source": [
    "!pip install ipython-sql"
   ]
  },
  {
   "cell_type": "markdown",
   "metadata": {},
   "source": [
    "### To add SQL extension"
   ]
  },
  {
   "cell_type": "code",
   "execution_count": 2,
   "metadata": {},
   "outputs": [],
   "source": [
    "%load_ext sql"
   ]
  },
  {
   "cell_type": "markdown",
   "metadata": {},
   "source": [
    "### Connect to database"
   ]
  },
  {
   "cell_type": "code",
   "execution_count": 3,
   "metadata": {},
   "outputs": [],
   "source": [
    "%sql sqlite:///northwind.db"
   ]
  },
  {
   "cell_type": "markdown",
   "metadata": {},
   "source": [
    "### Data Manipulation Language (DML)\n",
    "\n",
    "DML is the data manipulation commands in SQL and can be used to retrieve, store, modify, and delete data from database. Examples of DML are SELECT, INSERT, UPDATE, and DELETE. "
   ]
  },
  {
   "cell_type": "markdown",
   "metadata": {},
   "source": [
    "### SQL keywords are NOT case sensitive: select is the same as SELECT"
   ]
  },
  {
   "cell_type": "code",
   "execution_count": 4,
   "metadata": {},
   "outputs": [
    {
     "name": "stdout",
     "output_type": "stream",
     "text": [
      " * sqlite:///northwind.db\n",
      "Done.\n"
     ]
    },
    {
     "data": {
      "text/html": [
       "<table>\n",
       "    <tr>\n",
       "        <th>sql</th>\n",
       "    </tr>\n",
       "</table>"
      ],
      "text/plain": [
       "[]"
      ]
     },
     "execution_count": 4,
     "metadata": {},
     "output_type": "execute_result"
    }
   ],
   "source": [
    "%sql SELECT sql from sqlite_master WHERE type='table';"
   ]
  },
  {
   "cell_type": "markdown",
   "metadata": {},
   "source": [
    "### The SELECT statement is used to select data from a database. \n",
    "#### The data returned is stored in a result table, called the result-set."
   ]
  },
  {
   "cell_type": "code",
   "execution_count": 5,
   "metadata": {},
   "outputs": [
    {
     "name": "stdout",
     "output_type": "stream",
     "text": [
      " * sqlite:///northwind.db\n",
      "(sqlite3.OperationalError) no such table: Customers\n",
      "[SQL: SELECT * FROM Customers;]\n",
      "(Background on this error at: http://sqlalche.me/e/13/e3q8)\n"
     ]
    }
   ],
   "source": [
    "%sql SELECT * FROM Customers;"
   ]
  },
  {
   "cell_type": "markdown",
   "metadata": {},
   "source": [
    "#### The following statement returns the columns information stored in table Orders"
   ]
  },
  {
   "cell_type": "code",
   "execution_count": 6,
   "metadata": {},
   "outputs": [
    {
     "name": "stdout",
     "output_type": "stream",
     "text": [
      " * sqlite:///northwind.db\n",
      "Done.\n"
     ]
    },
    {
     "data": {
      "text/html": [
       "<table>\n",
       "    <tr>\n",
       "        <th>cid</th>\n",
       "        <th>name</th>\n",
       "        <th>type</th>\n",
       "        <th>notnull</th>\n",
       "        <th>dflt_value</th>\n",
       "        <th>pk</th>\n",
       "    </tr>\n",
       "</table>"
      ],
      "text/plain": [
       "[]"
      ]
     },
     "execution_count": 6,
     "metadata": {},
     "output_type": "execute_result"
    }
   ],
   "source": [
    "%sql PRAGMA table_info(Orders);"
   ]
  },
  {
   "cell_type": "code",
   "execution_count": 7,
   "metadata": {},
   "outputs": [
    {
     "name": "stdout",
     "output_type": "stream",
     "text": [
      " * sqlite:///northwind.db\n",
      "Done.\n"
     ]
    },
    {
     "data": {
      "text/html": [
       "<table>\n",
       "    <tr>\n",
       "        <th>id</th>\n",
       "        <th>seq</th>\n",
       "        <th>table</th>\n",
       "        <th>from</th>\n",
       "        <th>to</th>\n",
       "        <th>on_update</th>\n",
       "        <th>on_delete</th>\n",
       "        <th>match</th>\n",
       "    </tr>\n",
       "</table>"
      ],
      "text/plain": [
       "[]"
      ]
     },
     "execution_count": 7,
     "metadata": {},
     "output_type": "execute_result"
    }
   ],
   "source": [
    "%sql PRAGMA foreign_key_list(Orders);"
   ]
  },
  {
   "cell_type": "markdown",
   "metadata": {},
   "source": [
    "### Some database systems require a semicolon at the end of each SQL statement. Semicolon is the standard way to separate each SQL statement in database systems that allow more than one SQL statement to be executed in the same call to the server."
   ]
  },
  {
   "cell_type": "markdown",
   "metadata": {},
   "source": [
    "## SELECT Column Example"
   ]
  },
  {
   "cell_type": "markdown",
   "metadata": {},
   "source": [
    "#### The following SQL statement selects the \"CustomerName\" and \"City\" columns from the \"Customers\" table:"
   ]
  },
  {
   "cell_type": "code",
   "execution_count": 8,
   "metadata": {},
   "outputs": [
    {
     "name": "stdout",
     "output_type": "stream",
     "text": [
      " * sqlite:///northwind.db\n",
      "(sqlite3.OperationalError) no such table: Customers\n",
      "[SQL: SELECT CompanyName, City FROM Customers;]\n",
      "(Background on this error at: http://sqlalche.me/e/13/e3q8)\n"
     ]
    }
   ],
   "source": [
    "%%sql SELECT CompanyName, City \n",
    "FROM Customers;"
   ]
  },
  {
   "cell_type": "markdown",
   "metadata": {},
   "source": [
    "## SELECT * Example\n"
   ]
  },
  {
   "cell_type": "markdown",
   "metadata": {},
   "source": [
    "### The following SQL statement selects all the columns from the Customers table:"
   ]
  },
  {
   "cell_type": "code",
   "execution_count": 9,
   "metadata": {},
   "outputs": [
    {
     "name": "stdout",
     "output_type": "stream",
     "text": [
      " * sqlite:///northwind.db\n",
      "(sqlite3.OperationalError) no such table: Customers\n",
      "[SQL: SELECT * FROM Customers;]\n",
      "(Background on this error at: http://sqlalche.me/e/13/e3q8)\n"
     ]
    }
   ],
   "source": [
    "%sql SELECT * FROM Customers;"
   ]
  },
  {
   "cell_type": "markdown",
   "metadata": {},
   "source": [
    "## SQL SELECT DISTINCT Statement"
   ]
  },
  {
   "cell_type": "markdown",
   "metadata": {},
   "source": [
    "### The SELECT DISTINCT statement is used to return only distinct (different) values.\n",
    "### Inside a table, a column often contains many duplicate values; and sometimes you only want to list the different (distinct) values. \n",
    "### The SELECT DISTINCT statement is used to return only distinct (different) values."
   ]
  },
  {
   "cell_type": "code",
   "execution_count": 10,
   "metadata": {},
   "outputs": [
    {
     "name": "stdout",
     "output_type": "stream",
     "text": [
      " * sqlite:///northwind.db\n",
      "(sqlite3.OperationalError) no such table: Customers\n",
      "[SQL: SELECT DISTINCT Country FROM Customers]\n",
      "(Background on this error at: http://sqlalche.me/e/13/e3q8)\n"
     ]
    }
   ],
   "source": [
    "%sql SELECT DISTINCT Country FROM Customers"
   ]
  },
  {
   "cell_type": "markdown",
   "metadata": {},
   "source": [
    "### The following SQL statement lists the number of different (distinct) customer countries:"
   ]
  },
  {
   "cell_type": "code",
   "execution_count": 11,
   "metadata": {},
   "outputs": [
    {
     "name": "stdout",
     "output_type": "stream",
     "text": [
      " * sqlite:///northwind.db\n",
      "(sqlite3.OperationalError) no such table: Customers\n",
      "[SQL: SELECT COUNT(DISTINCT Country) FROM Customers;]\n",
      "(Background on this error at: http://sqlalche.me/e/13/e3q8)\n"
     ]
    }
   ],
   "source": [
    "%sql SELECT COUNT(DISTINCT Country) FROM Customers;"
   ]
  },
  {
   "cell_type": "code",
   "execution_count": 12,
   "metadata": {},
   "outputs": [
    {
     "name": "stdout",
     "output_type": "stream",
     "text": [
      " * sqlite:///northwind.db\n",
      "(sqlite3.OperationalError) no such table: Customers\n",
      "[SQL: SELECT COUNT(Country) FROM Customers;]\n",
      "(Background on this error at: http://sqlalche.me/e/13/e3q8)\n"
     ]
    }
   ],
   "source": [
    "%sql SELECT COUNT(Country) FROM Customers;"
   ]
  },
  {
   "cell_type": "markdown",
   "metadata": {},
   "source": [
    "## SQL Where Clause"
   ]
  },
  {
   "cell_type": "markdown",
   "metadata": {},
   "source": [
    "### The WHERE clause is used to filter records. The WHERE clause is used to extract only those records that fulfill a specified condition."
   ]
  },
  {
   "cell_type": "markdown",
   "metadata": {},
   "source": [
    "#### The following SQL statement selects all the customer from the country \"Mexico, in the \"Customer\" table:"
   ]
  },
  {
   "cell_type": "code",
   "execution_count": 13,
   "metadata": {},
   "outputs": [
    {
     "name": "stdout",
     "output_type": "stream",
     "text": [
      " * sqlite:///northwind.db\n",
      "(sqlite3.OperationalError) no such table: Customers\n",
      "[SQL: SELECT * FROM Customers\n",
      "WHERE Country='Mexico';]\n",
      "(Background on this error at: http://sqlalche.me/e/13/e3q8)\n"
     ]
    }
   ],
   "source": [
    "%%sql\n",
    "SELECT * FROM Customers\n",
    "WHERE Country='Mexico';"
   ]
  },
  {
   "cell_type": "code",
   "execution_count": 14,
   "metadata": {},
   "outputs": [
    {
     "name": "stdout",
     "output_type": "stream",
     "text": [
      " * sqlite:///northwind.db\n",
      "(sqlite3.OperationalError) no such table: Customers\n",
      "[SQL: SELECT count(*) FROM Customers;]\n",
      "(Background on this error at: http://sqlalche.me/e/13/e3q8)\n"
     ]
    }
   ],
   "source": [
    "%%sql\n",
    "SELECT count(*) FROM Customers;"
   ]
  },
  {
   "cell_type": "code",
   "execution_count": 15,
   "metadata": {},
   "outputs": [
    {
     "name": "stdout",
     "output_type": "stream",
     "text": [
      " * sqlite:///northwind.db\n",
      "(sqlite3.OperationalError) no such table: Customers\n",
      "[SQL: SELECT count(*) FROM Customers\n",
      "WHERE Country='Mexico';]\n",
      "(Background on this error at: http://sqlalche.me/e/13/e3q8)\n"
     ]
    }
   ],
   "source": [
    "%%sql\n",
    "SELECT count(*) FROM Customers\n",
    "WHERE Country='Mexico';"
   ]
  },
  {
   "cell_type": "markdown",
   "metadata": {},
   "source": [
    "## Text Fields vs. Numeric Fields"
   ]
  },
  {
   "cell_type": "markdown",
   "metadata": {},
   "source": [
    "### SQL requires single quotes around text values (most database systems will also allow double quotes). However, numeric fields should not be enclosed in quotes:"
   ]
  },
  {
   "cell_type": "code",
   "execution_count": 16,
   "metadata": {},
   "outputs": [
    {
     "name": "stdout",
     "output_type": "stream",
     "text": [
      " * sqlite:///northwind.db\n",
      "(sqlite3.OperationalError) no such table: Employees\n",
      "[SQL: SELECT * FROM Employees\n",
      "WHERE EmployeeID = 1;]\n",
      "(Background on this error at: http://sqlalche.me/e/13/e3q8)\n"
     ]
    }
   ],
   "source": [
    "%%sql\n",
    "SELECT * FROM Employees\n",
    "WHERE EmployeeID = 1;"
   ]
  },
  {
   "cell_type": "markdown",
   "metadata": {},
   "source": [
    "## Operators in the WHERE clause"
   ]
  },
  {
   "cell_type": "markdown",
   "metadata": {},
   "source": [
    "### The following operators can be used in the WHERE clause:"
   ]
  },
  {
   "cell_type": "markdown",
   "metadata": {},
   "source": [
    "\n",
    "|Operator | Description |\n",
    "| :- | :-: | \n",
    "| =  | Equal|\n",
    "| <> | Not equal |\n",
    "| >  | Greater than|\n",
    "| <  | Less than |\n",
    "| >= | Greater than or Equal|\n",
    "| <= |\tLess than or Equal |\n",
    "|BETWEEN |\tBetween an inclusive range|\n",
    "|LIKE\t| Search for a pattern|\n",
    "| IN\t| To specify multiple possible values for a column|\n"
   ]
  },
  {
   "cell_type": "markdown",
   "metadata": {},
   "source": [
    "## SQL AND, OR and NOT Operators"
   ]
  },
  {
   "cell_type": "markdown",
   "metadata": {},
   "source": [
    "### The WHERE clause can be combined with logical (AND, OR, and NOT) operators"
   ]
  },
  {
   "cell_type": "markdown",
   "metadata": {},
   "source": [
    "|AND Operator |\n",
    "|:-|\n",
    "| A | B | A and B |\n",
    "| False  | False | FALSE |\n",
    "| False | True |FALSE|\n",
    "| True  | False|FALSE|\n",
    "| True  | True |TRUE|"
   ]
  },
  {
   "cell_type": "markdown",
   "metadata": {},
   "source": [
    "|OR Operator |\n",
    "|:-|\n",
    "| A | B | A or B |\n",
    "| False  | False | FALSE |\n",
    "| False | True |TRUE|\n",
    "| True  | False|TRUE|\n",
    "| True  | True |TRUE|"
   ]
  },
  {
   "cell_type": "markdown",
   "metadata": {},
   "source": [
    "## AND Example\n",
    "#### The following SQL statement selects all fields from \"Customers\" where country is \"USA\" AND Region is \"WA\":"
   ]
  },
  {
   "cell_type": "code",
   "execution_count": 17,
   "metadata": {},
   "outputs": [
    {
     "name": "stdout",
     "output_type": "stream",
     "text": [
      " * sqlite:///northwind.db\n",
      "(sqlite3.OperationalError) no such table: Customers\n",
      "[SQL: SELECT * FROM Customers\n",
      "WHERE Country = 'USA' AND Region = 'WA';]\n",
      "(Background on this error at: http://sqlalche.me/e/13/e3q8)\n"
     ]
    }
   ],
   "source": [
    "%%sql \n",
    "SELECT * FROM Customers\n",
    "WHERE Country = 'USA' AND Region = 'WA';"
   ]
  },
  {
   "cell_type": "markdown",
   "metadata": {},
   "source": [
    "## OR Example\n",
    "### The following SQL statement selects all fields from \"Customers\" where country is \"France\" OR \"Germany\":"
   ]
  },
  {
   "cell_type": "code",
   "execution_count": 18,
   "metadata": {},
   "outputs": [
    {
     "name": "stdout",
     "output_type": "stream",
     "text": [
      " * sqlite:///northwind.db\n",
      "(sqlite3.OperationalError) no such table: Customers\n",
      "[SQL: SELECT CustomerID,CompanyName,ContactName,Country FROM Customers\n",
      "WHERE Country='France' OR Country='Germany';]\n",
      "(Background on this error at: http://sqlalche.me/e/13/e3q8)\n"
     ]
    }
   ],
   "source": [
    "%%sql \n",
    "SELECT CustomerID,CompanyName,ContactName,Country FROM Customers\n",
    "WHERE Country='France' OR Country='Germany';"
   ]
  },
  {
   "cell_type": "markdown",
   "metadata": {},
   "source": [
    "## NOT Example\n",
    "#### The following SQL statement selects all fields from \"Customers\"where country is NOT \"USA\":"
   ]
  },
  {
   "cell_type": "code",
   "execution_count": 19,
   "metadata": {},
   "outputs": [
    {
     "name": "stdout",
     "output_type": "stream",
     "text": [
      " * sqlite:///northwind.db\n",
      "(sqlite3.OperationalError) no such table: Customers\n",
      "[SQL: SELECT * FROM Customers\n",
      "WHERE NOT Country='USA';]\n",
      "(Background on this error at: http://sqlalche.me/e/13/e3q8)\n"
     ]
    }
   ],
   "source": [
    "%%sql\n",
    "SELECT * FROM Customers\n",
    "WHERE NOT Country='USA';"
   ]
  },
  {
   "cell_type": "markdown",
   "metadata": {},
   "source": [
    "## Combining AND, OR and NOT\n",
    "#### The following SQL statement selects all fields from \"Customers\" where country is \"USA\" AND city must be \"Portland\" OR \"Seattle\" (use parenthesis to form complex expressions):"
   ]
  },
  {
   "cell_type": "code",
   "execution_count": 20,
   "metadata": {},
   "outputs": [
    {
     "name": "stdout",
     "output_type": "stream",
     "text": [
      " * sqlite:///northwind.db\n",
      "(sqlite3.OperationalError) no such table: Customers\n",
      "[SQL: SELECT * FROM Customers\n",
      "WHERE Country='USA' AND (City='Portland' OR City='Seattle');]\n",
      "(Background on this error at: http://sqlalche.me/e/13/e3q8)\n"
     ]
    }
   ],
   "source": [
    "%%sql\n",
    "SELECT * FROM Customers\n",
    "WHERE Country='USA' AND (City='Portland' OR City='Seattle');"
   ]
  },
  {
   "cell_type": "markdown",
   "metadata": {},
   "source": [
    "### Exercise 1\n",
    "#### Write a SQL query that selects all fields from \"Customers\" where the country is NOT \"Germany\" and NOT \"France\":"
   ]
  },
  {
   "cell_type": "code",
   "execution_count": 21,
   "metadata": {},
   "outputs": [
    {
     "name": "stdout",
     "output_type": "stream",
     "text": [
      " * sqlite:///northwind.db\n",
      "(sqlite3.OperationalError) no such table: Customers\n",
      "[SQL: SELECT * FROM Customers\n",
      "WHERE (NOT Country='Germany') AND (NOT Country='France');]\n",
      "(Background on this error at: http://sqlalche.me/e/13/e3q8)\n"
     ]
    }
   ],
   "source": [
    "%%sql\n",
    "SELECT * FROM Customers\n",
    "WHERE (NOT Country='Germany') AND (NOT Country='France');"
   ]
  },
  {
   "cell_type": "markdown",
   "metadata": {},
   "source": [
    "## ORDER BY"
   ]
  },
  {
   "cell_type": "markdown",
   "metadata": {},
   "source": [
    "The <b>ORDER BY</b> keyword is used to sort the result-set in <i>ascending</i> or <i>descending</i> order.\n",
    "The ORDER BY keyword sorts the records in ascending order by default. \n",
    "To sort the records in descending order, use the <b>DESC</b> keyword."
   ]
  },
  {
   "cell_type": "markdown",
   "metadata": {},
   "source": [
    "<code>SELECT column1, column2, ...\n",
    "FROM table_name\n",
    "ORDER BY column1, column2, ... ASC|DESC;</code>"
   ]
  },
  {
   "cell_type": "markdown",
   "metadata": {},
   "source": [
    "#### The following SQL statement selects all customers from the \"Customers\" table, sorted by the \"Country\" column:"
   ]
  },
  {
   "cell_type": "code",
   "execution_count": 22,
   "metadata": {},
   "outputs": [
    {
     "name": "stdout",
     "output_type": "stream",
     "text": [
      " * sqlite:///northwind.db\n",
      "(sqlite3.OperationalError) no such table: Customers\n",
      "[SQL: SELECT CompanyName, Country FROM Customers\n",
      "ORDER BY Country;]\n",
      "(Background on this error at: http://sqlalche.me/e/13/e3q8)\n"
     ]
    }
   ],
   "source": [
    "%%sql\n",
    "SELECT CompanyName, Country FROM Customers\n",
    "ORDER BY Country;"
   ]
  },
  {
   "cell_type": "markdown",
   "metadata": {},
   "source": [
    "### Exercise 2\n",
    "#### Write a SQL statement selects all customers from the \"Customers\" table, sorted DESCENDING by the \"Country\" column:"
   ]
  },
  {
   "cell_type": "code",
   "execution_count": 23,
   "metadata": {},
   "outputs": [
    {
     "name": "stdout",
     "output_type": "stream",
     "text": [
      " * sqlite:///northwind.db\n",
      "(sqlite3.OperationalError) no such table: Customers\n",
      "[SQL: SELECT * FROM Customers\n",
      "ORDER BY Country DESC;]\n",
      "(Background on this error at: http://sqlalche.me/e/13/e3q8)\n"
     ]
    }
   ],
   "source": [
    "%%sql\n",
    "SELECT * FROM Customers\n",
    "ORDER BY Country DESC;"
   ]
  },
  {
   "cell_type": "markdown",
   "metadata": {},
   "source": [
    "## ORDER BY Several Columns Example\n",
    "#### The following SQL statement selects all customers from the \"Customers\" table, sorted by the \"Country\" and the \"CompanyName\" column:"
   ]
  },
  {
   "cell_type": "code",
   "execution_count": 24,
   "metadata": {},
   "outputs": [
    {
     "name": "stdout",
     "output_type": "stream",
     "text": [
      " * sqlite:///northwind.db\n",
      "(sqlite3.OperationalError) no such table: Customers\n",
      "[SQL: SELECT CompanyName,ContactName,Country FROM Customers\n",
      "ORDER BY Country, CompanyName;]\n",
      "(Background on this error at: http://sqlalche.me/e/13/e3q8)\n"
     ]
    }
   ],
   "source": [
    "%%sql\n",
    "SELECT CompanyName,ContactName,Country FROM Customers\n",
    "ORDER BY Country, CompanyName;"
   ]
  },
  {
   "cell_type": "markdown",
   "metadata": {},
   "source": [
    "### Exercise 3\n",
    "#### Write a SQL statement to select all customers from the \"Customers\" table, sorted ascending by the \"Country\" and descending by the \"CompanyName\" column:"
   ]
  },
  {
   "cell_type": "code",
   "execution_count": 25,
   "metadata": {},
   "outputs": [
    {
     "name": "stdout",
     "output_type": "stream",
     "text": [
      " * sqlite:///northwind.db\n",
      "(sqlite3.OperationalError) no such table: Customers\n",
      "[SQL: SELECT CompanyName,ContactName,Country FROM Customers\n",
      "ORDER BY Country, CompanyName DESC;]\n",
      "(Background on this error at: http://sqlalche.me/e/13/e3q8)\n"
     ]
    }
   ],
   "source": [
    "%%sql\n",
    "SELECT CompanyName,ContactName,Country FROM Customers\n",
    "ORDER BY Country, CompanyName DESC;"
   ]
  },
  {
   "cell_type": "markdown",
   "metadata": {},
   "source": [
    "## INSERT INTO\n",
    "#### The INSERT INTO statement is used to insert new rows in a table.\n",
    "##### There are two ways to insert records into a table, the first way is specifying the column names and the values to be inserted.\n",
    "##### The second way is inserting all of the fields into a table without specifying the column names in the SQL query. however, make sure the order of the values is in the same order as the columns in the table."
   ]
  },
  {
   "cell_type": "markdown",
   "metadata": {},
   "source": [
    "<code>INSERT INTO table_name (column1, column2, column3, ...)\n",
    "VALUES (value1, value2, value3, ...);</code>\n",
    "<br><b>OR</b><br>\n",
    "<code>INSERT INTO table_name\n",
    "VALUES (value1, value2, value3, ...);</code>"
   ]
  },
  {
   "cell_type": "markdown",
   "metadata": {},
   "source": [
    "## INSERT INTO Example"
   ]
  },
  {
   "cell_type": "markdown",
   "metadata": {},
   "source": [
    "#### The following SQL statement inserts a new record in the Customers table:"
   ]
  },
  {
   "cell_type": "code",
   "execution_count": 26,
   "metadata": {},
   "outputs": [
    {
     "name": "stdout",
     "output_type": "stream",
     "text": [
      " * sqlite:///northwind.db\n",
      "(sqlite3.OperationalError) no such table: Customers\n",
      "[SQL: INSERT INTO Customers (CustomerID, CompanyName, ContactName, address, City, PostalCode, Country)\n",
      "VALUES ('CART1','Cardinal', 'Tom B. Erichsen', 'Skagen 21','Stavanger', '4006', 'Norway');]\n",
      "(Background on this error at: http://sqlalche.me/e/13/e3q8)\n"
     ]
    }
   ],
   "source": [
    "%%sql\n",
    "INSERT INTO Customers (CustomerID, CompanyName, ContactName, address, City, PostalCode, Country)\n",
    "VALUES ('CART1','Cardinal', 'Tom B. Erichsen', 'Skagen 21','Stavanger', '4006', 'Norway');"
   ]
  },
  {
   "cell_type": "code",
   "execution_count": 27,
   "metadata": {},
   "outputs": [
    {
     "name": "stdout",
     "output_type": "stream",
     "text": [
      " * sqlite:///northwind.db\n",
      "(sqlite3.OperationalError) no such table: Customers\n",
      "[SQL: INSERT INTO Customers VALUES ('CART2','Cardinal', 'Tom B. Erichsen', 'Skagen 21','Stavanger', '4006', 'Norway',NULL,NULL,NULL,NULL);]\n",
      "(Background on this error at: http://sqlalche.me/e/13/e3q8)\n"
     ]
    }
   ],
   "source": [
    "%%sql\n",
    "INSERT INTO Customers\n",
    "VALUES ('CART2','Cardinal', 'Tom B. Erichsen', 'Skagen 21','Stavanger', '4006', 'Norway',NULL,NULL,NULL,NULL);"
   ]
  },
  {
   "cell_type": "code",
   "execution_count": 28,
   "metadata": {},
   "outputs": [
    {
     "name": "stdout",
     "output_type": "stream",
     "text": [
      " * sqlite:///northwind.db\n",
      "(sqlite3.OperationalError) no such table: Customers\n",
      "[SQL: SELECT * FROM Customers\n",
      "WHERE CustomerID='CART1']\n",
      "(Background on this error at: http://sqlalche.me/e/13/e3q8)\n"
     ]
    }
   ],
   "source": [
    "%%sql\n",
    "\n",
    "SELECT * FROM Customers\n",
    "WHERE CustomerID='CART1'"
   ]
  },
  {
   "cell_type": "markdown",
   "metadata": {},
   "source": [
    "### Exercise 4\n",
    "#### Check whether the previous record is inserted or not?"
   ]
  },
  {
   "cell_type": "code",
   "execution_count": 29,
   "metadata": {},
   "outputs": [
    {
     "name": "stdout",
     "output_type": "stream",
     "text": [
      " * sqlite:///northwind.db\n",
      "(sqlite3.OperationalError) no such table: Customers\n",
      "[SQL: SELECT * FROM Customers\n",
      "WHERE CustomerID='CART2']\n",
      "(Background on this error at: http://sqlalche.me/e/13/e3q8)\n"
     ]
    }
   ],
   "source": [
    "%%sql\n",
    "\n",
    "SELECT * FROM Customers\n",
    "WHERE CustomerID='CART2'"
   ]
  },
  {
   "cell_type": "markdown",
   "metadata": {},
   "source": [
    "## SQL NULL Values"
   ]
  },
  {
   "cell_type": "markdown",
   "metadata": {},
   "source": [
    "### What is a NULL Value?\n",
    "#### A field with no value is a NULL value field. NULL value is different from a zero value or a field that contain spaces."
   ]
  },
  {
   "cell_type": "markdown",
   "metadata": {},
   "source": [
    "### IS NULL and IS NOT NULL\n",
    "#### To test a NULL values, we can't use comparision operators, such as =,<, or <>. So we have to use the <b>IS NULL</b> or <b>IS NOT NULL</b> operators instead."
   ]
  },
  {
   "cell_type": "markdown",
   "metadata": {},
   "source": [
    "### The following SQL statement uses the IS NULL operator to list all customers that have no address:"
   ]
  },
  {
   "cell_type": "code",
   "execution_count": 30,
   "metadata": {},
   "outputs": [
    {
     "name": "stdout",
     "output_type": "stream",
     "text": [
      " * sqlite:///northwind.db\n",
      "(sqlite3.OperationalError) no such table: Customers\n",
      "[SQL: SELECT * FROM Customers\n",
      "WHERE Address IS NULL]\n",
      "(Background on this error at: http://sqlalche.me/e/13/e3q8)\n"
     ]
    }
   ],
   "source": [
    "%%sql\n",
    "SELECT * FROM Customers\n",
    "WHERE Address IS NULL"
   ]
  },
  {
   "cell_type": "markdown",
   "metadata": {},
   "source": [
    "## SQL Update Statement"
   ]
  },
  {
   "cell_type": "markdown",
   "metadata": {},
   "source": [
    "#### The UPDATE statement is used to modify the existing records in a table. "
   ]
  },
  {
   "cell_type": "markdown",
   "metadata": {},
   "source": [
    "### UPDATE Syntax\n",
    "<br><code>UPDATE table_name\n",
    "SET column1 = value1, column2 = value2, ...\n",
    "WHERE condition;</code>"
   ]
  },
  {
   "cell_type": "code",
   "execution_count": 31,
   "metadata": {},
   "outputs": [
    {
     "name": "stdout",
     "output_type": "stream",
     "text": [
      " * sqlite:///northwind.db\n",
      "(sqlite3.OperationalError) no such table: Customers\n",
      "[SQL: UPDATE Customers SET PostalCode = '4040'\n",
      "WHERE CustomerID = 'CART1']\n",
      "(Background on this error at: http://sqlalche.me/e/13/e3q8)\n"
     ]
    }
   ],
   "source": [
    "%%sql\n",
    "UPDATE Customers\n",
    "SET PostalCode = '4040'\n",
    "WHERE CustomerID = 'CART1'"
   ]
  },
  {
   "cell_type": "code",
   "execution_count": 32,
   "metadata": {},
   "outputs": [
    {
     "name": "stdout",
     "output_type": "stream",
     "text": [
      " * sqlite:///northwind.db\n",
      "(sqlite3.OperationalError) no such table: Customers\n",
      "[SQL: SELECT * FROM Customers\n",
      "WHERE CustomerID = 'CART1']\n",
      "(Background on this error at: http://sqlalche.me/e/13/e3q8)\n"
     ]
    }
   ],
   "source": [
    "%%sql\n",
    "\n",
    "SELECT * FROM Customers\n",
    "WHERE CustomerID = 'CART1'"
   ]
  },
  {
   "cell_type": "markdown",
   "metadata": {},
   "source": [
    "### Exercise 5\n",
    "#### Write a SQL statement to update country name of 'Tom B. Erichsen' from 'Cardinal' Company to \"Netherlands\"."
   ]
  },
  {
   "cell_type": "code",
   "execution_count": 33,
   "metadata": {},
   "outputs": [
    {
     "name": "stdout",
     "output_type": "stream",
     "text": [
      " * sqlite:///northwind.db\n",
      "(sqlite3.OperationalError) no such table: Customers\n",
      "[SQL: UPDATE Customers SET Country = 'Netherlands'\n",
      "WHERE CompanyName = 'Cardinal' AND ContactName = 'Tom B. Erichsen']\n",
      "(Background on this error at: http://sqlalche.me/e/13/e3q8)\n"
     ]
    }
   ],
   "source": [
    "%%sql\n",
    "UPDATE Customers\n",
    "SET Country = 'Netherlands'\n",
    "WHERE CompanyName = 'Cardinal' AND ContactName = 'Tom B. Erichsen'"
   ]
  },
  {
   "cell_type": "code",
   "execution_count": 34,
   "metadata": {},
   "outputs": [
    {
     "name": "stdout",
     "output_type": "stream",
     "text": [
      " * sqlite:///northwind.db\n",
      "(sqlite3.OperationalError) no such table: Customers\n",
      "[SQL: SELECT * FROM Customers\n",
      "WHERE CompanyName = 'Cardinal' AND ContactName = 'Tom B. Erichsen']\n",
      "(Background on this error at: http://sqlalche.me/e/13/e3q8)\n"
     ]
    }
   ],
   "source": [
    "%%sql\n",
    "SELECT * FROM Customers\n",
    "WHERE CompanyName = 'Cardinal' AND ContactName = 'Tom B. Erichsen'"
   ]
  },
  {
   "cell_type": "markdown",
   "metadata": {},
   "source": [
    "### Update Multiple Records"
   ]
  },
  {
   "cell_type": "markdown",
   "metadata": {},
   "source": [
    "#### There WHERE clause determines how many records that will be updated\n",
    "### Exercise 6\n",
    "##### Write a SQL statement to update the ContactName to \"Julio Iglesias\" for all records where country is \"Mexico\":"
   ]
  },
  {
   "cell_type": "code",
   "execution_count": 35,
   "metadata": {},
   "outputs": [
    {
     "name": "stdout",
     "output_type": "stream",
     "text": [
      " * sqlite:///northwind.db\n",
      "(sqlite3.OperationalError) no such table: Customers\n",
      "[SQL: SELECT * FROM Customers\n",
      "WHERE Country = 'Mexico']\n",
      "(Background on this error at: http://sqlalche.me/e/13/e3q8)\n"
     ]
    }
   ],
   "source": [
    "%%sql\n",
    "SELECT * FROM Customers\n",
    "WHERE Country = 'Mexico'"
   ]
  },
  {
   "cell_type": "code",
   "execution_count": 36,
   "metadata": {},
   "outputs": [
    {
     "name": "stdout",
     "output_type": "stream",
     "text": [
      " * sqlite:///northwind.db\n",
      "(sqlite3.OperationalError) no such table: Customers\n",
      "[SQL: UPDATE Customers SET ContactName = 'Julio Iglesias'\n",
      "WHERE Country = 'Mexico']\n",
      "(Background on this error at: http://sqlalche.me/e/13/e3q8)\n"
     ]
    }
   ],
   "source": [
    "%%sql\n",
    "UPDATE Customers\n",
    "SET ContactName = 'Julio Iglesias'\n",
    "WHERE Country = 'Mexico'"
   ]
  },
  {
   "cell_type": "code",
   "execution_count": 37,
   "metadata": {},
   "outputs": [
    {
     "name": "stdout",
     "output_type": "stream",
     "text": [
      " * sqlite:///northwind.db\n",
      "(sqlite3.OperationalError) no such table: Customers\n",
      "[SQL: SELECT * FROM Customers\n",
      "WHERE Country = 'Mexico']\n",
      "(Background on this error at: http://sqlalche.me/e/13/e3q8)\n"
     ]
    }
   ],
   "source": [
    "%%sql\n",
    "SELECT * FROM Customers\n",
    "WHERE Country = 'Mexico'"
   ]
  },
  {
   "cell_type": "markdown",
   "metadata": {},
   "source": [
    "### Be careful when updating records. If you omit the WHERE clause, ALL records get updated!"
   ]
  },
  {
   "cell_type": "markdown",
   "metadata": {},
   "source": [
    "## SQL DELETE Statement"
   ]
  },
  {
   "cell_type": "markdown",
   "metadata": {},
   "source": [
    "### The DELETE statament is used to delete existing records in a table."
   ]
  },
  {
   "cell_type": "markdown",
   "metadata": {},
   "source": [
    "<code>DELETE FROM table_name\n",
    "WHERE condition;\n",
    "</code>"
   ]
  },
  {
   "cell_type": "markdown",
   "metadata": {},
   "source": [
    "#### Caution! If you omit the WHERE clause, all records in the table will be deleted."
   ]
  },
  {
   "cell_type": "markdown",
   "metadata": {},
   "source": [
    "### Exercise 7\n",
    "#### Write a query to delete Lionel Messi record. (his CustomerID is 'BARCAS')"
   ]
  },
  {
   "cell_type": "code",
   "execution_count": 38,
   "metadata": {},
   "outputs": [
    {
     "name": "stdout",
     "output_type": "stream",
     "text": [
      " * sqlite:///northwind.db\n",
      "(sqlite3.OperationalError) no such table: Customers\n",
      "[SQL: DELETE FROM Customers WHERE CustomerID='BARCAS']\n",
      "(Background on this error at: http://sqlalche.me/e/13/e3q8)\n"
     ]
    }
   ],
   "source": [
    "%%sql\n",
    "DELETE FROM Customers\n",
    "WHERE CustomerID='BARCAS'"
   ]
  },
  {
   "cell_type": "code",
   "execution_count": 39,
   "metadata": {},
   "outputs": [
    {
     "name": "stdout",
     "output_type": "stream",
     "text": [
      " * sqlite:///northwind.db\n",
      "(sqlite3.OperationalError) no such table: Customers\n",
      "[SQL: SELECT * FROM Customers\n",
      "WHERE CustomerID = 'BARCAS']\n",
      "(Background on this error at: http://sqlalche.me/e/13/e3q8)\n"
     ]
    }
   ],
   "source": [
    "%%sql\n",
    "SELECT * FROM Customers\n",
    "WHERE CustomerID = 'BARCAS'"
   ]
  },
  {
   "cell_type": "markdown",
   "metadata": {},
   "source": [
    "### Restore the database with these commands"
   ]
  },
  {
   "cell_type": "code",
   "execution_count": 40,
   "metadata": {},
   "outputs": [
    {
     "name": "stdout",
     "output_type": "stream",
     "text": [
      " * sqlite:///northwind.db\n",
      "(sqlite3.OperationalError) no such table: Customers\n",
      "[SQL: UPDATE Customers SET Country = 'Norway'\n",
      "WHERE CompanyName = 'Cardinal' AND ContactName = 'Tom B. Erichsen';]\n",
      "(Background on this error at: http://sqlalche.me/e/13/e3q8)\n"
     ]
    }
   ],
   "source": [
    "%%sql\n",
    "\n",
    "UPDATE Customers\n",
    "SET Country = 'Norway'\n",
    "WHERE CompanyName = 'Cardinal' AND ContactName = 'Tom B. Erichsen';\n",
    "\n",
    "UPDATE Customers\n",
    "SET ContactName = 'Ana Trujillo'\n",
    "WHERE CustomerID = 'ANATR';\n",
    "\n",
    "UPDATE Customers\n",
    "SET ContactName = 'Inigo Montoya'\n",
    "WHERE CustomerID = 'ANTON';\n",
    "\n",
    "UPDATE Customers\n",
    "SET ContactName = 'Antonio Banderas'\n",
    "WHERE CustomerID = 'CENTC';\n",
    "\n",
    "UPDATE Customers\n",
    "SET ContactName = 'Salma Hayek'\n",
    "WHERE CustomerID = 'PERIC';\n",
    "\n",
    "UPDATE Customers\n",
    "SET ContactName = 'Hugo Sanchis'\n",
    "WHERE CustomerID = 'TORTU';\n",
    "\n",
    "\n",
    "INSERT INTO Customers (CustomerID, CompanyName, ContactName, Address, City, PostalCode, Country)\n",
    "VALUES ('BARCAS','Barcelona CF', 'Lionel Messi', 'Camp Nou','Barcelona', '8028', 'Spain');\n",
    "\n",
    "\n",
    "DELETE Customers\n",
    "WHERE CustomerID = CART1;\n",
    "\n",
    "DELETE Customers\n",
    "WHERE CustomerID = CART2;"
   ]
  },
  {
   "cell_type": "markdown",
   "metadata": {},
   "source": [
    "#### You can delete all records using <code>DELETE FROM table_name</code>, Please don't try it.  : )"
   ]
  },
  {
   "cell_type": "markdown",
   "metadata": {},
   "source": [
    "## SQL LIMIT clause"
   ]
  },
  {
   "cell_type": "markdown",
   "metadata": {},
   "source": [
    "#### The SQL SELECT LIMIT statement is used to retrieve records from one or more tables in a database and limit the number of records returned based on a limit value."
   ]
  },
  {
   "cell_type": "markdown",
   "metadata": {},
   "source": [
    "<code>SELECT column_name(s)\n",
    "FROM table_name\n",
    "WHERE condition\n",
    "LIMIT number;</code>"
   ]
  },
  {
   "cell_type": "markdown",
   "metadata": {},
   "source": [
    "### Exercise 8\n",
    "#### Write a query to select the first three customers that live in Mexico."
   ]
  },
  {
   "cell_type": "code",
   "execution_count": 41,
   "metadata": {},
   "outputs": [
    {
     "name": "stdout",
     "output_type": "stream",
     "text": [
      " * sqlite:///northwind.db\n",
      "(sqlite3.OperationalError) no such table: Customers\n",
      "[SQL: SELECT * FROM Customers\n",
      "WHERE country = 'Mexico'\n",
      "LIMIT 3;]\n",
      "(Background on this error at: http://sqlalche.me/e/13/e3q8)\n"
     ]
    }
   ],
   "source": [
    "%%sql\n",
    "SELECT *\n",
    "FROM Customers\n",
    "WHERE country = 'Mexico'\n",
    "LIMIT 3;"
   ]
  },
  {
   "cell_type": "markdown",
   "metadata": {},
   "source": [
    "## SQL MIN() and MAX() Functions"
   ]
  },
  {
   "cell_type": "markdown",
   "metadata": {},
   "source": [
    "#### The MIN() function returns the smallest value of the selected column.\n",
    "#### The MAX() function returns the largest value of the selected column."
   ]
  },
  {
   "cell_type": "markdown",
   "metadata": {},
   "source": [
    "<code>SELECT <b>MIN</b> or <b>MAX</b>(column_name)\n",
    "FROM table_name\n",
    "WHERE condition;</code>"
   ]
  },
  {
   "cell_type": "code",
   "execution_count": null,
   "metadata": {},
   "outputs": [],
   "source": []
  },
  {
   "cell_type": "markdown",
   "metadata": {},
   "source": [
    "## Exercise 9\n",
    "#### First get some information on \"Products\" table, then write a query to return back the cheapest product in this table."
   ]
  },
  {
   "cell_type": "code",
   "execution_count": 42,
   "metadata": {},
   "outputs": [
    {
     "name": "stdout",
     "output_type": "stream",
     "text": [
      " * sqlite:///northwind.db\n",
      "(sqlite3.OperationalError) no such table: Products\n",
      "[SQL: SELECT * FROM Products]\n",
      "(Background on this error at: http://sqlalche.me/e/13/e3q8)\n"
     ]
    }
   ],
   "source": [
    "%%sql\n",
    "SELECT *\n",
    "FROM Products"
   ]
  },
  {
   "cell_type": "code",
   "execution_count": 43,
   "metadata": {},
   "outputs": [
    {
     "name": "stdout",
     "output_type": "stream",
     "text": [
      " * sqlite:///northwind.db\n",
      "(sqlite3.OperationalError) no such table: Products\n",
      "[SQL: SELECT * FROM Products WHERE UnitPrice = (SELECT MIN(UnitPrice) FROM Products)]\n",
      "(Background on this error at: http://sqlalche.me/e/13/e3q8)\n"
     ]
    }
   ],
   "source": [
    "%%sql\n",
    "SELECT * FROM Products WHERE UnitPrice = (SELECT MIN(UnitPrice) FROM Products)"
   ]
  },
  {
   "cell_type": "markdown",
   "metadata": {},
   "source": [
    "## SQL COUNT(), AVG() and SUM() Functions"
   ]
  },
  {
   "cell_type": "markdown",
   "metadata": {},
   "source": [
    "#### The COUNT() function returns the number of rows that matches a specified criteria.\n",
    "#### The AVG() function returns the average value of a numeric column.\n",
    "#### The SUM() function returns the total sum of a numeric column."
   ]
  },
  {
   "cell_type": "markdown",
   "metadata": {},
   "source": [
    "### COUNT Syntax\n",
    "<code>SELECT <b>COUNT</b>(column_name)\n",
    "FROM table_name\n",
    "WHERE condition;</code>"
   ]
  },
  {
   "cell_type": "markdown",
   "metadata": {},
   "source": [
    "### AVG Syntax\n",
    "<code>SELECT <b>AVG</b>(column_name)\n",
    "FROM table_name\n",
    "WHERE condition;</code>"
   ]
  },
  {
   "cell_type": "markdown",
   "metadata": {},
   "source": [
    "### SUM Syntax\n",
    "<code>SELECT <b>SUM</b>(column_name)\n",
    "FROM table_name\n",
    "WHERE condition;</code>"
   ]
  },
  {
   "cell_type": "markdown",
   "metadata": {},
   "source": [
    "### Exercise 10\n",
    "#### How many products do we have in our database?"
   ]
  },
  {
   "cell_type": "code",
   "execution_count": 44,
   "metadata": {},
   "outputs": [
    {
     "name": "stdout",
     "output_type": "stream",
     "text": [
      " * sqlite:///northwind.db\n",
      "(sqlite3.OperationalError) no such table: Products\n",
      "[SQL: Select COUNT(ProductID) FROM Products;]\n",
      "(Background on this error at: http://sqlalche.me/e/13/e3q8)\n"
     ]
    }
   ],
   "source": [
    "%%sql\n",
    "Select COUNT(ProductID) FROM Products;\n"
   ]
  },
  {
   "cell_type": "markdown",
   "metadata": {},
   "source": [
    "### Exercise 11\n",
    "#### Write a SQL statement to find the average price of all products?"
   ]
  },
  {
   "cell_type": "code",
   "execution_count": 45,
   "metadata": {},
   "outputs": [
    {
     "name": "stdout",
     "output_type": "stream",
     "text": [
      " * sqlite:///northwind.db\n",
      "(sqlite3.OperationalError) no such table: Products\n",
      "[SQL: Select ROUND(AVG(UnitPrice), 2) FROM Products;]\n",
      "(Background on this error at: http://sqlalche.me/e/13/e3q8)\n"
     ]
    }
   ],
   "source": [
    "%%sql\n",
    "Select ROUND(AVG(UnitPrice), 2) FROM Products;\n"
   ]
  },
  {
   "cell_type": "markdown",
   "metadata": {},
   "source": [
    "### Exercise 12\n",
    "#### How many quantities have the customers ordered?"
   ]
  },
  {
   "cell_type": "code",
   "execution_count": 46,
   "metadata": {},
   "outputs": [
    {
     "name": "stdout",
     "output_type": "stream",
     "text": [
      " * sqlite:///northwind.db\n",
      "(sqlite3.OperationalError) no such table: Products\n",
      "[SQL: Select sum(UnitsOnOrder) FROM Products;]\n",
      "(Background on this error at: http://sqlalche.me/e/13/e3q8)\n"
     ]
    }
   ],
   "source": [
    "%%sql\n",
    "Select sum(UnitsOnOrder) FROM Products;\n"
   ]
  },
  {
   "cell_type": "markdown",
   "metadata": {},
   "source": [
    "## SQL LIKE Operator"
   ]
  },
  {
   "cell_type": "markdown",
   "metadata": {},
   "source": [
    "#### The LIKE operator is used in a WHERE clause to search for a specified pattern in a column.\n",
    "#### There are two wildcards used in conjunction with the LIKE operator:\n",
    "##### % : The percent sign is used to represent zero, one, or multiple characters.\n",
    "##### _ : The underscore sign is used to represent a single character."
   ]
  },
  {
   "cell_type": "markdown",
   "metadata": {},
   "source": [
    "<code>SELECT column1, column2, ...\n",
    "FROM table_name\n",
    "WHERE columnN <b>LIKE</b> pattern;</code>"
   ]
  },
  {
   "cell_type": "markdown",
   "metadata": {},
   "source": [
    "### Exercise 13-19\n",
    "#### Write a query to...in Customers table."
   ]
  },
  {
   "cell_type": "markdown",
   "metadata": {},
   "source": [
    "- Find any values that start with \"a\"\n",
    "- Find any values that end with \"a\"\n",
    "- Find any values that have \"or\" in any position\n",
    "- Find any values that have \"r\" in the second position\n",
    "- Find any values that start with \"a\" and are at least 3 characters in length\n",
    "- Find any values that start with \"a\" and ends with \"o\"\n",
    "- Find any values that does NOT start with \"a\"\n",
    "  "
   ]
  },
  {
   "cell_type": "markdown",
   "metadata": {},
   "source": [
    "### Find any values that start with \"a\""
   ]
  },
  {
   "cell_type": "code",
   "execution_count": 47,
   "metadata": {},
   "outputs": [
    {
     "name": "stdout",
     "output_type": "stream",
     "text": [
      " * sqlite:///northwind.db\n",
      "(sqlite3.OperationalError) no such table: Customers\n",
      "[SQL: SELECT * FROM Customers\n",
      "WHERE ContactName LIKE 'a%']\n",
      "(Background on this error at: http://sqlalche.me/e/13/e3q8)\n"
     ]
    }
   ],
   "source": [
    "%%sql\n",
    "SELECT * FROM Customers\n",
    "WHERE ContactName LIKE 'a%'"
   ]
  },
  {
   "cell_type": "markdown",
   "metadata": {},
   "source": [
    "### Find any values that end with \"a\""
   ]
  },
  {
   "cell_type": "code",
   "execution_count": 48,
   "metadata": {},
   "outputs": [
    {
     "name": "stdout",
     "output_type": "stream",
     "text": [
      " * sqlite:///northwind.db\n",
      "(sqlite3.OperationalError) no such table: Customers\n",
      "[SQL: SELECT * FROM Customers\n",
      "WHERE ContactName LIKE '%a']\n",
      "(Background on this error at: http://sqlalche.me/e/13/e3q8)\n"
     ]
    }
   ],
   "source": [
    "%%sql\n",
    "SELECT * FROM Customers\n",
    "WHERE ContactName LIKE '%a'"
   ]
  },
  {
   "cell_type": "markdown",
   "metadata": {},
   "source": [
    "### Find any values that have \"or\" in any position"
   ]
  },
  {
   "cell_type": "code",
   "execution_count": 49,
   "metadata": {},
   "outputs": [
    {
     "name": "stdout",
     "output_type": "stream",
     "text": [
      " * sqlite:///northwind.db\n",
      "(sqlite3.OperationalError) no such table: Customers\n",
      "[SQL: SELECT * FROM Customers\n",
      "WHERE ContactName LIKE '%or%']\n",
      "(Background on this error at: http://sqlalche.me/e/13/e3q8)\n"
     ]
    }
   ],
   "source": [
    "%%sql\n",
    "SELECT * FROM Customers\n",
    "WHERE ContactName LIKE '%or%'"
   ]
  },
  {
   "cell_type": "markdown",
   "metadata": {},
   "source": [
    "### Find any values that have \"r\" in the second position"
   ]
  },
  {
   "cell_type": "code",
   "execution_count": 50,
   "metadata": {},
   "outputs": [
    {
     "name": "stdout",
     "output_type": "stream",
     "text": [
      " * sqlite:///northwind.db\n",
      "(sqlite3.OperationalError) no such table: Customers\n",
      "[SQL: SELECT * FROM Customers\n",
      "WHERE ContactName LIKE '_r%']\n",
      "(Background on this error at: http://sqlalche.me/e/13/e3q8)\n"
     ]
    }
   ],
   "source": [
    "%%sql\n",
    "SELECT * FROM Customers\n",
    "WHERE ContactName LIKE '_r%'"
   ]
  },
  {
   "cell_type": "markdown",
   "metadata": {},
   "source": [
    "### Find any values that start with \"a\" and are at least 3 characters in length"
   ]
  },
  {
   "cell_type": "code",
   "execution_count": 51,
   "metadata": {},
   "outputs": [
    {
     "name": "stdout",
     "output_type": "stream",
     "text": [
      " * sqlite:///northwind.db\n",
      "(sqlite3.OperationalError) no such table: Customers\n",
      "[SQL: SELECT * FROM Customers\n",
      "WHERE ContactName LIKE 'a__%']\n",
      "(Background on this error at: http://sqlalche.me/e/13/e3q8)\n"
     ]
    }
   ],
   "source": [
    "%%sql\n",
    "SELECT * FROM Customers\n",
    "WHERE ContactName LIKE 'a__%'"
   ]
  },
  {
   "cell_type": "markdown",
   "metadata": {},
   "source": [
    "### Find any values that start with \"a\" and ends with \"o\""
   ]
  },
  {
   "cell_type": "code",
   "execution_count": 52,
   "metadata": {},
   "outputs": [
    {
     "name": "stdout",
     "output_type": "stream",
     "text": [
      " * sqlite:///northwind.db\n",
      "(sqlite3.OperationalError) no such table: Customers\n",
      "[SQL: SELECT * FROM Customers\n",
      "WHERE ContactName LIKE ('a%' and '%o')]\n",
      "(Background on this error at: http://sqlalche.me/e/13/e3q8)\n"
     ]
    }
   ],
   "source": [
    "%%sql\n",
    "SELECT * FROM Customers\n",
    "WHERE ContactName LIKE ('a%' and '%o')"
   ]
  },
  {
   "cell_type": "markdown",
   "metadata": {},
   "source": [
    "### Find any values that does NOT start with \"a\""
   ]
  },
  {
   "cell_type": "code",
   "execution_count": 53,
   "metadata": {},
   "outputs": [
    {
     "name": "stdout",
     "output_type": "stream",
     "text": [
      " * sqlite:///northwind.db\n",
      "(sqlite3.OperationalError) no such table: Customers\n",
      "[SQL: SELECT * FROM Customers\n",
      "WHERE ContactName NOT LIKE 'a%']\n",
      "(Background on this error at: http://sqlalche.me/e/13/e3q8)\n"
     ]
    }
   ],
   "source": [
    "%%sql\n",
    "SELECT * FROM Customers\n",
    "WHERE ContactName NOT LIKE 'a%'\n"
   ]
  },
  {
   "cell_type": "markdown",
   "metadata": {},
   "source": [
    "## SQL IN Operator"
   ]
  },
  {
   "cell_type": "markdown",
   "metadata": {},
   "source": [
    "#### The IN operator allows you to specify multiple values in a WHERE clause. The IN operator is a shorthand for multiple OR conditions."
   ]
  },
  {
   "cell_type": "markdown",
   "metadata": {},
   "source": [
    "<code>SELECT column_name(s)\n",
    "FROM table_name\n",
    "WHERE column_name IN (value1, value2, ...);</code>\n",
    "<br><b>Or</b><br>\n",
    "<code>SELECT column_name(s)\n",
    "FROM table_name\n",
    "WHERE column_name IN (SELECT STATEMENT);\n",
    "</code>"
   ]
  },
  {
   "cell_type": "markdown",
   "metadata": {},
   "source": [
    "### Exercise 20\n",
    "#### Write a SELECT statement to get all customers located in \"Germany\", \"USA\", and \"France\":"
   ]
  },
  {
   "cell_type": "code",
   "execution_count": 54,
   "metadata": {},
   "outputs": [
    {
     "name": "stdout",
     "output_type": "stream",
     "text": [
      " * sqlite:///northwind.db\n",
      "(sqlite3.OperationalError) no such table: Customers\n",
      "[SQL: SELECT Country FROM Customers\n",
      "WHERE Country='Germany' OR Country='USA' OR Country='France']\n",
      "(Background on this error at: http://sqlalche.me/e/13/e3q8)\n"
     ]
    }
   ],
   "source": [
    "%%sql\n",
    "SELECT Country FROM Customers\n",
    "WHERE Country='Germany' OR Country='USA' OR Country='France'"
   ]
  },
  {
   "cell_type": "code",
   "execution_count": 55,
   "metadata": {},
   "outputs": [
    {
     "name": "stdout",
     "output_type": "stream",
     "text": [
      " * sqlite:///northwind.db\n",
      "(sqlite3.OperationalError) no such table: Customers\n",
      "[SQL: SELECT COUNT(Country) FROM Customers\n",
      "WHERE Country IN ('Germany','USA','France')]\n",
      "(Background on this error at: http://sqlalche.me/e/13/e3q8)\n"
     ]
    }
   ],
   "source": [
    "%%sql\n",
    "SELECT COUNT(Country) FROM Customers\n",
    "WHERE Country IN ('Germany','USA','France')"
   ]
  },
  {
   "cell_type": "code",
   "execution_count": 56,
   "metadata": {},
   "outputs": [
    {
     "name": "stdout",
     "output_type": "stream",
     "text": [
      " * sqlite:///northwind.db\n",
      "(sqlite3.OperationalError) no such table: Customers\n",
      "[SQL: SELECT Country FROM Customers\n",
      "WHERE Country IN ('Germany','USA','France')]\n",
      "(Background on this error at: http://sqlalche.me/e/13/e3q8)\n"
     ]
    }
   ],
   "source": [
    "%%sql\n",
    "SELECT Country FROM Customers\n",
    "WHERE Country IN ('Germany','USA','France')"
   ]
  },
  {
   "cell_type": "markdown",
   "metadata": {},
   "source": [
    "### Exercise 21\n",
    "#### Write a SELECT statement to get all customers from the same countries as the suppliers: (USe IN(Select Statement...) also known as Subquery:"
   ]
  },
  {
   "cell_type": "code",
   "execution_count": null,
   "metadata": {},
   "outputs": [],
   "source": []
  },
  {
   "cell_type": "markdown",
   "metadata": {},
   "source": [
    "## SQL BETWEEN Operator"
   ]
  },
  {
   "cell_type": "markdown",
   "metadata": {},
   "source": [
    "#### The BETWEEN operator selects values within a given range. \n",
    "##### The BETWEEN operator is inclusive: begin and end values are included. The values can be numbers, text, or dates."
   ]
  },
  {
   "cell_type": "markdown",
   "metadata": {},
   "source": [
    "### BETWEEN Syntax\n",
    "<code>SELECT column_name(s)\n",
    "FROM table_name\n",
    "WHERE column_name BETWEEN value1 AND value2;</code>"
   ]
  },
  {
   "cell_type": "markdown",
   "metadata": {},
   "source": [
    "### Exercise 22\n",
    "#### Write a SELECT statement to get all products with a price BETWEEN 5 and 15:"
   ]
  },
  {
   "cell_type": "code",
   "execution_count": 57,
   "metadata": {},
   "outputs": [
    {
     "name": "stdout",
     "output_type": "stream",
     "text": [
      " * sqlite:///northwind.db\n",
      "(sqlite3.OperationalError) no such table: Products\n",
      "[SQL: SELECT * FROM Products\n",
      "WHERE UnitPrice BETWEEN 5 AND 15;]\n",
      "(Background on this error at: http://sqlalche.me/e/13/e3q8)\n"
     ]
    }
   ],
   "source": [
    "%%sql\n",
    "SELECT * FROM Products\n",
    "WHERE UnitPrice BETWEEN 5 AND 15;"
   ]
  },
  {
   "cell_type": "markdown",
   "metadata": {},
   "source": [
    "### Exercise 23\n",
    "#### Write a SELECT statement to get all products that their price are not BETWEEN 5 and 15, and their CategoryID are not 1,2, or 3 :"
   ]
  },
  {
   "cell_type": "code",
   "execution_count": 58,
   "metadata": {},
   "outputs": [
    {
     "name": "stdout",
     "output_type": "stream",
     "text": [
      " * sqlite:///northwind.db\n",
      "(sqlite3.OperationalError) no such table: Products\n",
      "[SQL: SELECT * FROM Products\n",
      "WHERE (UnitPrice NOT BETWEEN 5 AND 15) AND (CategoryID NOT IN (1,2,3))]\n",
      "(Background on this error at: http://sqlalche.me/e/13/e3q8)\n"
     ]
    }
   ],
   "source": [
    "%%sql\n",
    "SELECT * FROM Products\n",
    "WHERE (UnitPrice NOT BETWEEN 5 AND 15) AND (CategoryID NOT IN (1,2,3))"
   ]
  },
  {
   "cell_type": "markdown",
   "metadata": {},
   "source": [
    "### Exercise 24\n",
    "#### Write a query to SELECT all orders with an OrderDate BETWEEN '16-July-1996' and '01-August-1996':\n",
    "\n"
   ]
  },
  {
   "cell_type": "code",
   "execution_count": 59,
   "metadata": {},
   "outputs": [
    {
     "name": "stdout",
     "output_type": "stream",
     "text": [
      " * sqlite:///northwind.db\n",
      "(sqlite3.OperationalError) no such table: Orders\n",
      "[SQL: SELECT * FROM Orders\n",
      "WHERE OrderDate BETWEEN '1996-07-16' AND '1996-08-01']\n",
      "(Background on this error at: http://sqlalche.me/e/13/e3q8)\n"
     ]
    }
   ],
   "source": [
    "%%sql\n",
    "\n",
    "SELECT *\n",
    "FROM Orders\n",
    "WHERE OrderDate BETWEEN '1996-07-16' AND '1996-08-01'"
   ]
  },
  {
   "cell_type": "markdown",
   "metadata": {},
   "source": [
    "## SQL Aliases"
   ]
  },
  {
   "cell_type": "markdown",
   "metadata": {},
   "source": [
    "#### SQL aliases are used to give a table, or a column in a table, a temporary name. You can use aliases to make your column names more readable. \n",
    "#### Look at this example:"
   ]
  },
  {
   "cell_type": "code",
   "execution_count": 60,
   "metadata": {},
   "outputs": [
    {
     "name": "stdout",
     "output_type": "stream",
     "text": [
      " * sqlite:///northwind.db\n",
      "(sqlite3.OperationalError) no such table: Customers\n",
      "[SQL: SELECT CustomerID as ID, CompanyName as Customer\n",
      "FROM Customers;]\n",
      "(Background on this error at: http://sqlalche.me/e/13/e3q8)\n"
     ]
    }
   ],
   "source": [
    "%%sql\n",
    "SELECT CustomerID as ID, CompanyName as Customer\n",
    "FROM Customers;"
   ]
  },
  {
   "cell_type": "markdown",
   "metadata": {},
   "source": [
    "#### When an alias name consists of two or more parts, you should put it into square brackets."
   ]
  },
  {
   "cell_type": "code",
   "execution_count": 61,
   "metadata": {},
   "outputs": [
    {
     "name": "stdout",
     "output_type": "stream",
     "text": [
      " * sqlite:///northwind.db\n",
      "(sqlite3.OperationalError) no such table: Customers\n",
      "[SQL: SELECT CustomerID as ID, ContactName as [Contact Person]\n",
      "FROM Customers;]\n",
      "(Background on this error at: http://sqlalche.me/e/13/e3q8)\n"
     ]
    }
   ],
   "source": [
    "%%sql\n",
    "SELECT CustomerID as ID, ContactName as [Contact Person]\n",
    "FROM Customers;"
   ]
  },
  {
   "cell_type": "markdown",
   "metadata": {},
   "source": [
    "#### We can merge some fields and then give them an alias name. Look at this example."
   ]
  },
  {
   "cell_type": "code",
   "execution_count": 62,
   "metadata": {},
   "outputs": [
    {
     "name": "stdout",
     "output_type": "stream",
     "text": [
      " * sqlite:///northwind.db\n",
      "(sqlite3.OperationalError) no such table: Customers\n",
      "[SQL: SELECT CompanyName, printf('%s, %s, %s, %s',Address, PostalCode,City,Country) AS Address\n",
      "FROM Customers;]\n",
      "(Background on this error at: http://sqlalche.me/e/13/e3q8)\n"
     ]
    }
   ],
   "source": [
    "%%sql\n",
    "SELECT CompanyName, printf('%s, %s, %s, %s',Address, PostalCode,City,Country) AS Address\n",
    "FROM Customers;"
   ]
  },
  {
   "cell_type": "markdown",
   "metadata": {},
   "source": [
    "#### We also can use alias names for our tables, look at the example.\n",
    "/*selects all the orders of the Around the Horn company*/"
   ]
  },
  {
   "cell_type": "code",
   "execution_count": 63,
   "metadata": {},
   "outputs": [
    {
     "name": "stdout",
     "output_type": "stream",
     "text": [
      " * sqlite:///northwind.db\n",
      "(sqlite3.OperationalError) no such table: Customers\n",
      "[SQL: SELECT o.OrderID, o.OrderDate, c.CompanyName\n",
      "FROM Customers AS c, Orders AS o\n",
      "WHERE c.CompanyName=\"Around the Horn\" AND c.CustomerID=o.CustomerID;]\n",
      "(Background on this error at: http://sqlalche.me/e/13/e3q8)\n"
     ]
    }
   ],
   "source": [
    "%%sql\n",
    "SELECT o.OrderID, o.OrderDate, c.CompanyName\n",
    "FROM Customers AS c, Orders AS o\n",
    "WHERE c.CompanyName=\"Around the Horn\" AND c.CustomerID=o.CustomerID;\n"
   ]
  },
  {
   "cell_type": "code",
   "execution_count": 64,
   "metadata": {},
   "outputs": [
    {
     "name": "stdout",
     "output_type": "stream",
     "text": [
      " * sqlite:///northwind.db\n",
      "(sqlite3.OperationalError) no such table: Customers\n",
      "[SQL: SELECT o.OrderID, o.OrderDate, c.CompanyName\n",
      "FROM Customers AS c\n",
      "INNER JOIN Orders as o \n",
      "ON c.CustomerID=o.CustomerID\n",
      "WHERE c.CompanyName=\"Around the Horn\"]\n",
      "(Background on this error at: http://sqlalche.me/e/13/e3q8)\n"
     ]
    }
   ],
   "source": [
    "%%sql\n",
    "SELECT o.OrderID, o.OrderDate, c.CompanyName\n",
    "FROM Customers AS c\n",
    "INNER JOIN Orders as o \n",
    "ON c.CustomerID=o.CustomerID\n",
    "WHERE c.CompanyName=\"Around the Horn\""
   ]
  },
  {
   "cell_type": "markdown",
   "metadata": {},
   "source": [
    "## SQL JOIN"
   ]
  },
  {
   "cell_type": "markdown",
   "metadata": {},
   "source": [
    "#### A JOIN clause is used to combine rows from two or more tables, based on a related column between them. Let's look at a selection from the \"Orders\" table:"
   ]
  },
  {
   "cell_type": "markdown",
   "metadata": {},
   "source": [
    "<table>\n",
    "  <tbody><tr>\n",
    "    <th style=\"width:15%\">OrderID</th>\n",
    "    <th>CustomerID</th>\n",
    "    <th>OrderDate</th>\n",
    "  </tr>\n",
    "  <tr>\n",
    "    <td>10308</td>\n",
    "    <td>VINET</td>\n",
    "    <td>1996-09-18</td>\n",
    "  </tr>\n",
    "  <tr>\n",
    "    <td>10309</td>\n",
    "    <td>TOMSP</td>\n",
    "    <td>1996-09-19</td>\n",
    "  </tr>\n",
    "  <tr>\n",
    "    <td>10310</td>\n",
    "    <td>HANAR</td>\n",
    "    <td>1996-09-20</td>\n",
    "  </tr>\n",
    "</tbody></table>"
   ]
  },
  {
   "cell_type": "markdown",
   "metadata": {},
   "source": [
    "#### Then, look at a selection from the Custmers table:"
   ]
  },
  {
   "cell_type": "markdown",
   "metadata": {},
   "source": [
    "<table> <tbody><tr> <th>CustomerID</th> <th>CompanyName</th> <th>ContactName</th> <th>Country</th> </tr> <tr> <td>ALFKI</td> <td>Alfreds Futterkiste</td> <td>Maria Anders</td> <td>Germany</td> </tr> <tr> <td>BLAUS</td> <td>Blauer See Delikatessen</td> <td>Hanna Moos</td> <td>Germany</td> </tr> <tr> <td>BLONP</td> <td>Blondesddsl père et fils</td> <td>Frédérique Citeaux</td> <td>France</td> </tr> <tr> <td>BONAP</td> <td>Bon app'</td> <td>Laurence Lebihan</td> <td>France</td> </tr> <tr> <td>DRACD</td> <td>Drachenblut Delikatessen</td> <td>Sven Ottlieb</td> <td>Germany</td> </tr> <tr> <td>DUMON</td> <td>Du monde entier</td> <td>Janine Labrune</td> <td>France</td> </tr> <tr> <td>FOLIG</td> <td>Folies gourmandes</td> <td>Martine Rancé</td> <td>France</td> </tr> </tbody></table>\n",
    "  </tr>\n",
    "</tbody></table>"
   ]
  },
  {
   "cell_type": "markdown",
   "metadata": {},
   "source": [
    "#### Notice that the \"CustomerID\" column in the \"Orders\" table refers to the \"CustomerID\" in the \"Customers\" table. The relationship between the two tables above is the \"CustomerID\" column.\n",
    "\n",
    "#### Then, we can create the following SQL statement (that contains an INNER JOIN), that selects records that have matching values in both tables:"
   ]
  },
  {
   "cell_type": "code",
   "execution_count": 65,
   "metadata": {},
   "outputs": [
    {
     "name": "stdout",
     "output_type": "stream",
     "text": [
      " * sqlite:///northwind.db\n",
      "(sqlite3.OperationalError) no such table: Orders\n",
      "[SQL: SELECT c.CompanyName, o.OrderID, o.OrderDate\n",
      "FROM Orders as o INNER JOIN Customers as c \n",
      "ON o.CustomerID=c.CustomerID\n",
      "ORDER BY c.CompanyName]\n",
      "(Background on this error at: http://sqlalche.me/e/13/e3q8)\n"
     ]
    }
   ],
   "source": [
    "%%sql\n",
    "SELECT c.CompanyName, o.OrderID, o.OrderDate\n",
    "FROM Orders as o INNER JOIN Customers as c \n",
    "ON o.CustomerID=c.CustomerID\n",
    "ORDER BY c.CompanyName"
   ]
  },
  {
   "cell_type": "code",
   "execution_count": 66,
   "metadata": {},
   "outputs": [
    {
     "name": "stdout",
     "output_type": "stream",
     "text": [
      " * sqlite:///northwind.db\n",
      "(sqlite3.OperationalError) no such table: Orders\n",
      "[SQL: SELECT o.OrderID, c.CompanyName, o.OrderDate\n",
      "FROM Orders as o INNER JOIN Customers as c \n",
      "ON o.CustomerID=c.CustomerID\n",
      "WHERE c.CompanyName='Hanari Carnes';]\n",
      "(Background on this error at: http://sqlalche.me/e/13/e3q8)\n"
     ]
    }
   ],
   "source": [
    "%%sql\n",
    "SELECT o.OrderID, c.CompanyName, o.OrderDate\n",
    "FROM Orders as o INNER JOIN Customers as c \n",
    "ON o.CustomerID=c.CustomerID\n",
    "WHERE c.CompanyName='Hanari Carnes';"
   ]
  },
  {
   "cell_type": "markdown",
   "metadata": {},
   "source": [
    "## SQL INNER JOIN"
   ]
  },
  {
   "cell_type": "markdown",
   "metadata": {},
   "source": [
    "#### This type of join selects rows that have matching values in both tables."
   ]
  },
  {
   "cell_type": "markdown",
   "metadata": {},
   "source": [
    "<img src=\"https://www.w3schools.com/sql/img_innerjoin.gif\">"
   ]
  },
  {
   "cell_type": "markdown",
   "metadata": {},
   "source": [
    "##### The INNER JOIN keyword selects all rows from both tables as long as there is a match between the columns. If there are records in the \"Orders\" table that do not have matches in \"Customers\", these orders will not be shown!"
   ]
  },
  {
   "cell_type": "code",
   "execution_count": 67,
   "metadata": {},
   "outputs": [
    {
     "name": "stdout",
     "output_type": "stream",
     "text": [
      " * sqlite:///northwind.db\n",
      "(sqlite3.OperationalError) no such table: products\n",
      "[SQL: select * from products]\n",
      "(Background on this error at: http://sqlalche.me/e/13/e3q8)\n"
     ]
    }
   ],
   "source": [
    "%sql select * from products"
   ]
  },
  {
   "cell_type": "code",
   "execution_count": 68,
   "metadata": {},
   "outputs": [
    {
     "name": "stdout",
     "output_type": "stream",
     "text": [
      " * sqlite:///northwind.db\n",
      "(sqlite3.OperationalError) no such table: suppliers\n",
      "[SQL: select * from suppliers]\n",
      "(Background on this error at: http://sqlalche.me/e/13/e3q8)\n"
     ]
    }
   ],
   "source": [
    "%sql select * from suppliers\n"
   ]
  },
  {
   "cell_type": "markdown",
   "metadata": {},
   "source": [
    "### Exercise 25\n",
    "#### Write a SQL inner join statement to list all product's name of one supplier."
   ]
  },
  {
   "cell_type": "code",
   "execution_count": 69,
   "metadata": {},
   "outputs": [
    {
     "name": "stdout",
     "output_type": "stream",
     "text": [
      " * sqlite:///northwind.db\n",
      "(sqlite3.OperationalError) no such table: Products\n",
      "[SQL: SELECT p.ProductName, s.CompanyName as [Supplier Name] \n",
      "FROM Products as p INNER JOIN Suppliers as s\n",
      "ON p.SupplierID=s.SupplierID\n",
      "WHERE s.CompanyName = 'Exotic Liquids']\n",
      "(Background on this error at: http://sqlalche.me/e/13/e3q8)\n"
     ]
    }
   ],
   "source": [
    "%%sql\n",
    "SELECT p.ProductName, s.CompanyName as [Supplier Name] \n",
    "FROM Products as p INNER JOIN Suppliers as s\n",
    "ON p.SupplierID=s.SupplierID\n",
    "WHERE s.CompanyName = 'Exotic Liquids'"
   ]
  },
  {
   "cell_type": "markdown",
   "metadata": {},
   "source": [
    "### Exercise 26\n",
    "#### Write a SQL statement to list all orders of each customer."
   ]
  },
  {
   "cell_type": "code",
   "execution_count": 70,
   "metadata": {},
   "outputs": [
    {
     "name": "stdout",
     "output_type": "stream",
     "text": [
      " * sqlite:///northwind.db\n",
      "(sqlite3.OperationalError) no such table: ORders\n",
      "[SQL: SELECT c.CompanyName, COUNT(o.OrderID) AS [Number of Orders]\n",
      "FROM ORders as o INNER JOIN Customers AS c\n",
      "ON o.CustomerID=c.CustomerID\n",
      "GROUP BY c.CompanyName\n",
      "ORDER BY [Number of Orders] desc]\n",
      "(Background on this error at: http://sqlalche.me/e/13/e3q8)\n"
     ]
    }
   ],
   "source": [
    "%%sql\n",
    "SELECT c.CompanyName, COUNT(o.OrderID) AS [Number of Orders]\n",
    "FROM ORders as o INNER JOIN Customers AS c\n",
    "ON o.CustomerID=c.CustomerID\n",
    "GROUP BY c.CompanyName\n",
    "ORDER BY [Number of Orders] desc"
   ]
  },
  {
   "cell_type": "code",
   "execution_count": null,
   "metadata": {},
   "outputs": [],
   "source": []
  },
  {
   "cell_type": "markdown",
   "metadata": {},
   "source": [
    "## SQL LEFT JOIN"
   ]
  },
  {
   "cell_type": "markdown",
   "metadata": {},
   "source": [
    "#### The LEFT JOIN keyword returns all records from the left table (table1), and the matched records from the right table (table2). The result is NULL from the right side, if there is no match."
   ]
  },
  {
   "cell_type": "markdown",
   "metadata": {},
   "source": [
    "### LEFT JOIN Syntax\n",
    "<code>SELECT column_name(s)\n",
    "FROM table1 LEFT JOIN table2 \n",
    "ON table1.column_name = table2.column_name;</code>"
   ]
  },
  {
   "cell_type": "markdown",
   "metadata": {},
   "source": [
    "<img src=\"https://www.w3schools.com/sql/img_leftjoin.gif\">"
   ]
  },
  {
   "cell_type": "markdown",
   "metadata": {},
   "source": [
    "### Exercise 27\n",
    "#### Write a SQL statement to select all customers, and any orders they might have."
   ]
  },
  {
   "cell_type": "code",
   "execution_count": 71,
   "metadata": {},
   "outputs": [
    {
     "name": "stdout",
     "output_type": "stream",
     "text": [
      " * sqlite:///northwind.db\n",
      "(sqlite3.OperationalError) no such table: Customers\n",
      "[SQL: SELECT c.CompanyName, o.OrderID FROM Customers as c\n",
      "LEFT JOIN Orders as o\n",
      "ON c.CustomerID = o.CustomerID]\n",
      "(Background on this error at: http://sqlalche.me/e/13/e3q8)\n"
     ]
    }
   ],
   "source": [
    "%%sql\n",
    "SELECT c.CompanyName, o.OrderID\n",
    "FROM Customers as c\n",
    "LEFT JOIN Orders as o\n",
    "ON c.CustomerID = o.CustomerID"
   ]
  },
  {
   "cell_type": "markdown",
   "metadata": {},
   "source": [
    "##### The LEFT JOIN keyword returns all records from the left table (Customers), even if there are no matches in the right table (Orders)."
   ]
  },
  {
   "cell_type": "markdown",
   "metadata": {},
   "source": [
    "## SQL RIGHT JOIN\n",
    "#### The RIGHT JOIN keyword returns all records from the right table (table2), and the matched records from the left table (table1). The result is NULL from the left side, when there is no match."
   ]
  },
  {
   "cell_type": "markdown",
   "metadata": {},
   "source": [
    "### RIGHT JOIN Syntax"
   ]
  },
  {
   "cell_type": "markdown",
   "metadata": {},
   "source": [
    "<code>SELECT column_name(s)\n",
    "FROM table1\n",
    "RIGHT JOIN table2 ON table1.column_name = table2.column_name;</code>"
   ]
  },
  {
   "cell_type": "markdown",
   "metadata": {},
   "source": [
    "<img src=\"https://www.w3schools.com/sql/img_rightjoin.gif\">"
   ]
  },
  {
   "cell_type": "markdown",
   "metadata": {},
   "source": [
    "#### Write a SQL statement that return all employees, and any orders they might have placed."
   ]
  },
  {
   "cell_type": "code",
   "execution_count": 72,
   "metadata": {},
   "outputs": [
    {
     "name": "stdout",
     "output_type": "stream",
     "text": [
      " * sqlite:///northwind.db\n",
      "(sqlite3.OperationalError) RIGHT and FULL OUTER JOINs are not currently supported\n",
      "[SQL: SELECT o.OrderID, e.LastName, e.FirstName\n",
      "FROM Orders as o\n",
      "RIGHT JOIN Employees as e ON o.EmployeeID = e.EmployeeID\n",
      "ORDER BY o.OrderID;]\n",
      "(Background on this error at: http://sqlalche.me/e/13/e3q8)\n"
     ]
    }
   ],
   "source": [
    "%%sql\n",
    "SELECT o.OrderID, e.LastName, e.FirstName\n",
    "FROM Orders as o\n",
    "RIGHT JOIN Employees as e ON o.EmployeeID = e.EmployeeID\n",
    "ORDER BY o.OrderID;"
   ]
  },
  {
   "cell_type": "markdown",
   "metadata": {},
   "source": [
    "## SQL FULL OUTER JOIN"
   ]
  },
  {
   "cell_type": "markdown",
   "metadata": {},
   "source": [
    "#### The FULL OUTER JOIN keyword return all records when there is a match in either left (table1) or right (table2) table records."
   ]
  },
  {
   "cell_type": "markdown",
   "metadata": {},
   "source": [
    "### FULL OUTER JOIN Syntax"
   ]
  },
  {
   "cell_type": "markdown",
   "metadata": {},
   "source": [
    "<code>SELECT column_name(s)\n",
    "FROM table1\n",
    "FULL OUTER JOIN table2 ON table1.column_name = table2.column_name;</code>"
   ]
  },
  {
   "cell_type": "markdown",
   "metadata": {},
   "source": [
    "<img src=\"https://www.w3schools.com/sql/img_fulljoin.gif\">"
   ]
  },
  {
   "cell_type": "markdown",
   "metadata": {},
   "source": [
    "#### Write a SQL statement to select all customers, and all orders"
   ]
  },
  {
   "cell_type": "code",
   "execution_count": 73,
   "metadata": {},
   "outputs": [
    {
     "name": "stdout",
     "output_type": "stream",
     "text": [
      " * sqlite:///northwind.db\n",
      "(sqlite3.OperationalError) RIGHT and FULL OUTER JOINs are not currently supported\n",
      "[SQL: SELECT Customers.CompanyName, Orders.OrderID FROM Customers\n",
      "FULL OUTER JOIN Orders ON Customers.CustomerID=Orders.CustomerID\n",
      "ORDER BY Customers.CompanyName;]\n",
      "(Background on this error at: http://sqlalche.me/e/13/e3q8)\n"
     ]
    }
   ],
   "source": [
    "%%sql\n",
    "SELECT Customers.CompanyName, Orders.OrderID\n",
    "FROM Customers\n",
    "FULL OUTER JOIN Orders ON Customers.CustomerID=Orders.CustomerID\n",
    "ORDER BY Customers.CompanyName;"
   ]
  },
  {
   "cell_type": "markdown",
   "metadata": {},
   "source": [
    "## SQL GROUP BY"
   ]
  },
  {
   "cell_type": "markdown",
   "metadata": {},
   "source": [
    "#### The GROUP BY statement is often used with aggregate functions (COUNT, MAX, MIN, SUM, AVG) to group the result-set by one or more columns."
   ]
  },
  {
   "cell_type": "markdown",
   "metadata": {},
   "source": [
    "### GROUP BY Syntax"
   ]
  },
  {
   "cell_type": "markdown",
   "metadata": {},
   "source": [
    "<code>SELECT column_name(s)\n",
    "FROM table_name\n",
    "WHERE condition\n",
    "GROUP BY column_name(s)\n",
    "ORDER BY column_name(s);</code>"
   ]
  },
  {
   "cell_type": "markdown",
   "metadata": {},
   "source": [
    "### Exercise 28"
   ]
  },
  {
   "cell_type": "markdown",
   "metadata": {},
   "source": [
    "#### Write a SQL statement to list the number of customers in each country:"
   ]
  },
  {
   "cell_type": "code",
   "execution_count": 74,
   "metadata": {},
   "outputs": [
    {
     "name": "stdout",
     "output_type": "stream",
     "text": [
      " * sqlite:///northwind.db\n",
      "(sqlite3.OperationalError) no such table: Customers\n",
      "[SQL: SELECT c.Country, count(c.CompanyName) as [Number of Customers]\n",
      "FROM Customers as c\n",
      "GROUP BY Country]\n",
      "(Background on this error at: http://sqlalche.me/e/13/e3q8)\n"
     ]
    }
   ],
   "source": [
    "%%sql\n",
    "SELECT c.Country, count(c.CompanyName) as [Number of Customers]\n",
    "FROM Customers as c\n",
    "GROUP BY Country"
   ]
  },
  {
   "cell_type": "markdown",
   "metadata": {},
   "source": [
    "### Exercise 29\n",
    "#### Write a SQL statement to list the number of customers in each country, sorted high to low:"
   ]
  },
  {
   "cell_type": "code",
   "execution_count": 75,
   "metadata": {},
   "outputs": [
    {
     "name": "stdout",
     "output_type": "stream",
     "text": [
      " * sqlite:///northwind.db\n",
      "(sqlite3.OperationalError) no such table: Customers\n",
      "[SQL: SELECT Country, count(*) as [Number of Customers]\n",
      "FROM Customers \n",
      "GROUP BY Country\n",
      "ORDER BY [Number of Customers] DESC]\n",
      "(Background on this error at: http://sqlalche.me/e/13/e3q8)\n"
     ]
    }
   ],
   "source": [
    "%%sql\n",
    "SELECT Country, count(*) as [Number of Customers]\n",
    "FROM Customers \n",
    "GROUP BY Country\n",
    "ORDER BY [Number of Customers] DESC"
   ]
  },
  {
   "cell_type": "markdown",
   "metadata": {},
   "source": [
    "### Exercise 30\n",
    "#### Write a SQL statement to list the number of orders of each customer."
   ]
  },
  {
   "cell_type": "code",
   "execution_count": 76,
   "metadata": {},
   "outputs": [
    {
     "name": "stdout",
     "output_type": "stream",
     "text": [
      " * sqlite:///northwind.db\n",
      "(sqlite3.OperationalError) no such table: Orders\n",
      "[SQL: SELECT CompanyName, COUNT(o.OrderID) AS [Number of Orders]\n",
      "FROM Orders o\n",
      "INNER JOIN Customers c\n",
      "ON o.CustomerID = o.CustomerID\n",
      "GROUP BY c.CompanyName\n",
      "ORDER BY [Number of Orders] DESC]\n",
      "(Background on this error at: http://sqlalche.me/e/13/e3q8)\n"
     ]
    }
   ],
   "source": [
    "%%sql\n",
    "SELECT CompanyName, COUNT(o.OrderID) AS [Number of Orders]\n",
    "FROM Orders o\n",
    "INNER JOIN Customers c\n",
    "ON o.CustomerID = o.CustomerID\n",
    "GROUP BY c.CompanyName\n",
    "ORDER BY [Number of Orders] DESC"
   ]
  },
  {
   "cell_type": "code",
   "execution_count": 77,
   "metadata": {},
   "outputs": [
    {
     "name": "stdout",
     "output_type": "stream",
     "text": [
      " * sqlite:///northwind.db\n",
      "(sqlite3.OperationalError) no such table: Customers\n",
      "[SQL: SELECT c.CompanyName, count(o.OrderID) as [Number of Orders]\n",
      "FROM Customers as c\n",
      "LEFT JOIN Orders as o\n",
      "ON c.CustomerID = o.CustomerID\n",
      "GROUP BY CompanyName\n",
      "ORDER BY [Number of Orders] DESC;]\n",
      "(Background on this error at: http://sqlalche.me/e/13/e3q8)\n"
     ]
    }
   ],
   "source": [
    "%%sql\n",
    "SELECT c.CompanyName, count(o.OrderID) as [Number of Orders]\n",
    "FROM Customers as c\n",
    "LEFT JOIN Orders as o\n",
    "ON c.CustomerID = o.CustomerID\n",
    "GROUP BY CompanyName\n",
    "ORDER BY [Number of Orders] DESC;"
   ]
  },
  {
   "cell_type": "markdown",
   "metadata": {},
   "source": [
    "## SQL HAVING Clause"
   ]
  },
  {
   "cell_type": "markdown",
   "metadata": {},
   "source": [
    "#### The HAVING clause was added to SQL because the WHERE keyword could not be used with aggregate functions."
   ]
  },
  {
   "cell_type": "markdown",
   "metadata": {},
   "source": [
    "### HAVING Syntax"
   ]
  },
  {
   "cell_type": "markdown",
   "metadata": {},
   "source": [
    "<code>SELECT column_name(s)\n",
    "FROM table_name\n",
    "WHERE condition\n",
    "GROUP BY column_name(s)\n",
    "HAVING condition\n",
    "ORDER BY column_name(s);</code>"
   ]
  },
  {
   "cell_type": "markdown",
   "metadata": {},
   "source": [
    "### Exercise 31\n",
    "#### Write a SQL statement to list the number of customers in each country. Only include countries with more than 5 customers, and then sort them from high to low."
   ]
  },
  {
   "cell_type": "code",
   "execution_count": 78,
   "metadata": {},
   "outputs": [
    {
     "name": "stdout",
     "output_type": "stream",
     "text": [
      " * sqlite:///northwind.db\n",
      "(sqlite3.OperationalError) no such table: Customers\n",
      "[SQL: SELECT c.Country, count(c.CompanyName) as [Number of Customers]\n",
      "FROM Customers as c\n",
      "GROUP BY Country\n",
      "HAVING [Number of Customers] > 5\n",
      "ORDER BY [Number of Customers] DESC;]\n",
      "(Background on this error at: http://sqlalche.me/e/13/e3q8)\n"
     ]
    }
   ],
   "source": [
    "%%sql\n",
    "SELECT c.Country, count(c.CompanyName) as [Number of Customers]\n",
    "FROM Customers as c\n",
    "GROUP BY Country\n",
    "HAVING [Number of Customers] > 5\n",
    "ORDER BY [Number of Customers] DESC;"
   ]
  },
  {
   "cell_type": "markdown",
   "metadata": {},
   "source": [
    "### Exercise 32\n",
    "#### Write a SQL statement to list the employees that have registered more than 50 orders:"
   ]
  },
  {
   "cell_type": "code",
   "execution_count": 79,
   "metadata": {},
   "outputs": [
    {
     "name": "stdout",
     "output_type": "stream",
     "text": [
      " * sqlite:///northwind.db\n",
      "(sqlite3.OperationalError) no such table: Employees\n",
      "[SQL: SELECT e.LastName, e.FirstName, count(o.OrderID) as [Number of Orders]\n",
      "FROM Employees as e\n",
      "INNER JOIN Orders as o\n",
      "ON e.EmployeeID = o.EmployeeID\n",
      "GROUP BY LastName\n",
      "HAVING [Number of Orders] > 50\n",
      "ORDER BY [Number of Orders] DESC]\n",
      "(Background on this error at: http://sqlalche.me/e/13/e3q8)\n"
     ]
    }
   ],
   "source": [
    "%%sql\n",
    "SELECT e.LastName, e.FirstName, count(o.OrderID) as [Number of Orders]\n",
    "FROM Employees as e\n",
    "INNER JOIN Orders as o\n",
    "ON e.EmployeeID = o.EmployeeID\n",
    "GROUP BY LastName\n",
    "HAVING [Number of Orders] > 50\n",
    "ORDER BY [Number of Orders] DESC"
   ]
  },
  {
   "cell_type": "code",
   "execution_count": 80,
   "metadata": {},
   "outputs": [
    {
     "name": "stdout",
     "output_type": "stream",
     "text": [
      " * sqlite:///northwind.db\n",
      "(sqlite3.OperationalError) no such table: Orders\n",
      "[SQL: SELECT e.EmployeeID, COUNT(OrderID) as [Number of Orders]\n",
      "FROM Orders as o\n",
      "INNER JOIN Employees as e\n",
      "ON o.EmployeeID = e.EmployeeID\n",
      "GROUP BY o.EmployeeID\n",
      "HAVING [Number of Orders] > 50\n",
      "ORDER BY [Number of Orders] DESC;]\n",
      "(Background on this error at: http://sqlalche.me/e/13/e3q8)\n"
     ]
    }
   ],
   "source": [
    "%%sql\n",
    "SELECT e.EmployeeID, COUNT(OrderID) as [Number of Orders]\n",
    "FROM Orders as o\n",
    "INNER JOIN Employees as e\n",
    "ON o.EmployeeID = e.EmployeeID\n",
    "GROUP BY o.EmployeeID\n",
    "HAVING [Number of Orders] > 50\n",
    "ORDER BY [Number of Orders] DESC;\n",
    "\n"
   ]
  },
  {
   "cell_type": "markdown",
   "metadata": {},
   "source": [
    "## SQL EXISTS"
   ]
  },
  {
   "cell_type": "markdown",
   "metadata": {},
   "source": [
    "#### The EXISTS operator is used to test for the existence of any record in a subquery.\n",
    "#### The EXISTS operator returns true if the subquery returns one or more records."
   ]
  },
  {
   "cell_type": "markdown",
   "metadata": {},
   "source": [
    "### EXISTS Syntax"
   ]
  },
  {
   "cell_type": "markdown",
   "metadata": {},
   "source": [
    "<code>SELECT column_name(s)\n",
    "FROM table_name\n",
    "WHERE EXISTS\n",
    "(SELECT column_name FROM table_name WHERE condition);</code>"
   ]
  },
  {
   "cell_type": "markdown",
   "metadata": {},
   "source": [
    "### Exercise 33\n",
    "#### Write a SQL statement to list the suppliers with a product price less than 20"
   ]
  },
  {
   "cell_type": "code",
   "execution_count": 81,
   "metadata": {},
   "outputs": [
    {
     "name": "stdout",
     "output_type": "stream",
     "text": [
      " * sqlite:///northwind.db\n",
      "(sqlite3.OperationalError) no such table: Products\n",
      "[SQL: SELECT * FROM Products\n",
      "LIMIT 3]\n",
      "(Background on this error at: http://sqlalche.me/e/13/e3q8)\n"
     ]
    }
   ],
   "source": [
    "%%sql\n",
    "SELECT * FROM Products\n",
    "LIMIT 3"
   ]
  },
  {
   "cell_type": "code",
   "execution_count": 82,
   "metadata": {},
   "outputs": [
    {
     "name": "stdout",
     "output_type": "stream",
     "text": [
      " * sqlite:///northwind.db\n",
      "(sqlite3.OperationalError) no such table: Suppliers\n",
      "[SQL: SELECT * FROM Suppliers\n",
      "LIMIT 3]\n",
      "(Background on this error at: http://sqlalche.me/e/13/e3q8)\n"
     ]
    }
   ],
   "source": [
    "%%sql\n",
    "SELECT * FROM Suppliers\n",
    "LIMIT 3"
   ]
  },
  {
   "cell_type": "code",
   "execution_count": 83,
   "metadata": {},
   "outputs": [
    {
     "name": "stdout",
     "output_type": "stream",
     "text": [
      " * sqlite:///northwind.db\n",
      "(sqlite3.OperationalError) no such table: Suppliers\n",
      "[SQL: SELECT s.CompanyName FROM Suppliers as s\n",
      "INNER JOIN Products as p\n",
      "ON s.SupplierID = p.SupplierID\n",
      "WHERE EXISTS\n",
      "(SELECT p.SupplierID FROM Products WHERE p.UnitPrice<20)]\n",
      "(Background on this error at: http://sqlalche.me/e/13/e3q8)\n"
     ]
    }
   ],
   "source": [
    "%%sql\n",
    "SELECT s.CompanyName\n",
    "FROM Suppliers as s\n",
    "INNER JOIN Products as p\n",
    "ON s.SupplierID = p.SupplierID\n",
    "WHERE EXISTS\n",
    "(SELECT p.SupplierID FROM Products WHERE p.UnitPrice<20)"
   ]
  },
  {
   "cell_type": "code",
   "execution_count": 84,
   "metadata": {},
   "outputs": [
    {
     "name": "stdout",
     "output_type": "stream",
     "text": [
      " * sqlite:///northwind.db\n",
      "(sqlite3.OperationalError) no such table: Products\n",
      "[SQL: SELECT DISTINCT s.CompanyName FROM Products as p\n",
      "INNER JOIN Suppliers as s\n",
      "ON p.SupplierID = s.SUpplierID\n",
      "WHERE p.UnitPrice < 20\n",
      "ORDER BY s.COmpanyName;]\n",
      "(Background on this error at: http://sqlalche.me/e/13/e3q8)\n"
     ]
    }
   ],
   "source": [
    "%%sql\n",
    "SELECT DISTINCT s.CompanyName\n",
    "FROM Products as p\n",
    "INNER JOIN Suppliers as s\n",
    "ON p.SupplierID = s.SUpplierID\n",
    "WHERE p.UnitPrice < 20\n",
    "ORDER BY s.COmpanyName;"
   ]
  },
  {
   "cell_type": "markdown",
   "metadata": {},
   "source": [
    "## SQL ANY and ALL Operators"
   ]
  },
  {
   "cell_type": "markdown",
   "metadata": {},
   "source": [
    "#### The ANY and ALL operators are used with a WHERE or HAVING clause.\n",
    "\n",
    "#### The ANY operator returns true if any of the subquery values meet the condition.\n",
    "\n",
    "#### The ALL operator returns true if all of the subquery values meet the condition."
   ]
  },
  {
   "cell_type": "markdown",
   "metadata": {},
   "source": [
    "### ANY Syntax"
   ]
  },
  {
   "cell_type": "markdown",
   "metadata": {},
   "source": [
    "<code>SELECT column_name(s)\n",
    "FROM table_name\n",
    "WHERE column_name operator ANY\n",
    "(SELECT column_name FROM table_name WHERE condition);</code>"
   ]
  },
  {
   "cell_type": "markdown",
   "metadata": {},
   "source": [
    "### ALL Syntax"
   ]
  },
  {
   "cell_type": "markdown",
   "metadata": {},
   "source": [
    "<code>SELECT column_name(s)\n",
    "FROM table_name\n",
    "WHERE column_name operator ALL\n",
    "(SELECT column_name FROM table_name WHERE condition);</code>"
   ]
  },
  {
   "cell_type": "markdown",
   "metadata": {},
   "source": [
    "### SQLite doesn't support ANY and ALL. :-)"
   ]
  },
  {
   "cell_type": "markdown",
   "metadata": {},
   "source": [
    " "
   ]
  },
  {
   "cell_type": "markdown",
   "metadata": {},
   "source": [
    "## Views"
   ]
  },
  {
   "cell_type": "markdown",
   "metadata": {},
   "source": [
    "<p>A view is nothing more than a SQLite statement that is stored in the database with an associated name. It is actually a composition of a table in the form of a predefined SQLite query.\n",
    "A view can contain all rows of a table or selected rows from one or more tables. A view can be created from one or many tables which depends on the written SQLite query to create a view.\n",
    "Views which are kind of virtual tables, allow the users to −\n",
    "<ul>\n",
    "    <li>Structure data in a way that users or classes of users find natural or intuitive.</li>\n",
    "<li>Restrict access to the data such that a user can only see limited data instead of a complete table.</li>\n",
    "    <li>Summarize data from various tables, which can be used to generate reports.</li>\n",
    "    </ul>\n",
    "SQLite views are read-only and thus you may not be able to execute a DELETE, INSERT or UPDATE statement on a view. However, you can create a trigger on a view that fires on an attempt to DELETE, INSERT, or UPDATE a view and do what you need in the body of the trigger.</p>"
   ]
  },
  {
   "cell_type": "markdown",
   "metadata": {},
   "source": [
    "<code>CREATE [TEMP | TEMPORARY] VIEW view_name AS\n",
    "SELECT column1, column2.....\n",
    "FROM table_name\n",
    "WHERE [condition];</code>"
   ]
  },
  {
   "cell_type": "code",
   "execution_count": 85,
   "metadata": {},
   "outputs": [
    {
     "name": "stdout",
     "output_type": "stream",
     "text": [
      " * sqlite:///northwind.db\n",
      "Done.\n",
      "Done.\n",
      "(sqlite3.OperationalError) no such table: main.Products\n",
      "[SQL: SELECT * FROM Current_Product_List;]\n",
      "(Background on this error at: http://sqlalche.me/e/13/e3q8)\n"
     ]
    }
   ],
   "source": [
    "%%sql\n",
    "DROP VIEW IF EXISTS Current_Product_List;\n",
    "CREATE VIEW Current_Product_List AS SELECT ProductID, ProductName FROM Products WHERE SupplierID= 2;\n",
    "SELECT * FROM Current_Product_List;"
   ]
  },
  {
   "cell_type": "markdown",
   "metadata": {},
   "source": [
    "### Data Definition Language (DDL)\n",
    "\n",
    "DDL deals with the schemas and structures of database. Examples of DDL are CREATE, ALTER, DROP, and TRUNCATE. In this tutorial, we will use DROP to drop a table from the database.\n",
    "\n",
    "<code>DROP TABLE table_name;</code>"
   ]
  },
  {
   "cell_type": "code",
   "execution_count": 86,
   "metadata": {},
   "outputs": [],
   "source": [
    "#DROP TABLE Region;"
   ]
  }
 ],
 "metadata": {
  "kernelspec": {
   "display_name": "Python 3",
   "language": "python",
   "name": "python3"
  },
  "language_info": {
   "codemirror_mode": {
    "name": "ipython",
    "version": 3
   },
   "file_extension": ".py",
   "mimetype": "text/x-python",
   "name": "python",
   "nbconvert_exporter": "python",
   "pygments_lexer": "ipython3",
   "version": "3.8.3"
  }
 },
 "nbformat": 4,
 "nbformat_minor": 4
}
